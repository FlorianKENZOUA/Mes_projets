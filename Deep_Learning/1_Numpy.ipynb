{
 "cells": [
  {
   "cell_type": "markdown",
   "metadata": {
    "id": "a0MmrhaaFL-v"
   },
   "source": [
    "## Scientific computing in Python with Numpy"
   ]
  },
  {
   "cell_type": "markdown",
   "metadata": {
    "id": "XBTE28ptFL-1"
   },
   "source": [
    "One good reason to use Numpy is the computational efficiency. For example, suppose you want to compute the exponential of a list of numbers. An option would be to use the function `math.exp()`. Unfortunately, the latter doesn't work on lists!"
   ]
  },
  {
   "cell_type": "markdown",
   "metadata": {
    "id": "wi-Kg6U9FL-4"
   },
   "source": [
    "In machine learning, we always organize our data in vectors and matrices. That's why Numpy is more useful than the \"math\" library. In fact, if $x = (x_1, x_2, ..., x_N)$ is a vector, then the function `numpy.exp(x)` will apply the exponential to every element of `x`, and the output will be $e^x = (e^{x_1}, e^{x_2}, ..., e^{x_N})$. The advantange of doing so is that *for*-loops and *while*-loops can be entirely replaced with fast operations on vectors and matrices!"
   ]
  },
  {
   "cell_type": "code",
   "execution_count": 1,
   "metadata": {
    "id": "vf0lk7V5FL-4"
   },
   "outputs": [],
   "source": [
    "import numpy as np"
   ]
  },
  {
   "cell_type": "markdown",
   "metadata": {
    "id": "b8IniOfqFL-5"
   },
   "source": [
    "Any time you need more info on a numpy function, we encourage you to look at [the official documentation](https://docs.scipy.org/doc/numpy/reference/index.html). You can also create a new cell in the notebook and write `np.exp?` (for example) to get quick access to the documentation. Now, let's get started!"
   ]
  },
  {
   "cell_type": "markdown",
   "metadata": {
    "id": "EAt9_0GkFL-6",
    "jp-MarkdownHeadingCollapsed": true
   },
   "source": [
    "## 1. Tensors\n",
    "\n",
    "A Numpy tensor is a table of elements (usually numbers), all of the same type, indexed by a tuple of positive integers. Its class is called `numpy.array`. The more important attributes of a Numpy array are:\n",
    "\n",
    " - `ndim` - The number of axes of the array.\n",
    " \n",
    " - `shape` - A tuple of integers indicating the size of the array in each axis.\n",
    " \n",
    " - `size` - The total number of elements of the array (equal to the product of the elements of `shape`).\n",
    "\n",
    " - `dtype` - The type of the elements in the array (e.g., `numpy.int32`, `numpy.float64`, etc)."
   ]
  },
  {
   "cell_type": "markdown",
   "metadata": {
    "id": "T1IxQkZEFL-6"
   },
   "source": [
    "### Scalars (0D tensors)\n",
    "\n",
    "A tensor that contains only one number is called a scalar. In Numpy, a `float32` or `float64` number is a scalar tensor. Here’s a Numpy scalar:"
   ]
  },
  {
   "cell_type": "code",
   "execution_count": 2,
   "metadata": {
    "colab": {
     "base_uri": "https://localhost:8080/"
    },
    "executionInfo": {
     "elapsed": 3488,
     "status": "ok",
     "timestamp": 1614607226692,
     "user": {
      "displayName": "Yamna OUCHTAR",
      "photoUrl": "",
      "userId": "01529658261698667727"
     },
     "user_tz": 0
    },
    "id": "u31gQ9fnFL-7",
    "outputId": "9ce5b174-bc4e-4368-c96e-1204fc50941a"
   },
   "outputs": [
    {
     "data": {
      "text/plain": [
       "array(12)"
      ]
     },
     "execution_count": 2,
     "metadata": {},
     "output_type": "execute_result"
    }
   ],
   "source": [
    "x = np.array(12)\n",
    "x"
   ]
  },
  {
   "cell_type": "markdown",
   "metadata": {
    "id": "_J2aPC_MFL-7"
   },
   "source": [
    "A scalar has **no axis**."
   ]
  },
  {
   "cell_type": "code",
   "execution_count": 3,
   "metadata": {
    "colab": {
     "base_uri": "https://localhost:8080/"
    },
    "executionInfo": {
     "elapsed": 3475,
     "status": "ok",
     "timestamp": 1614607226693,
     "user": {
      "displayName": "Yamna OUCHTAR",
      "photoUrl": "",
      "userId": "01529658261698667727"
     },
     "user_tz": 0
    },
    "id": "EEcnZCMxFL-7",
    "outputId": "5b5ad98c-3cea-465b-99bc-0bc9591a01ad"
   },
   "outputs": [
    {
     "data": {
      "text/plain": [
       "0"
      ]
     },
     "execution_count": 3,
     "metadata": {},
     "output_type": "execute_result"
    }
   ],
   "source": [
    "x.ndim"
   ]
  },
  {
   "cell_type": "code",
   "execution_count": 4,
   "metadata": {
    "colab": {
     "base_uri": "https://localhost:8080/"
    },
    "executionInfo": {
     "elapsed": 3461,
     "status": "ok",
     "timestamp": 1614607226693,
     "user": {
      "displayName": "Yamna OUCHTAR",
      "photoUrl": "",
      "userId": "01529658261698667727"
     },
     "user_tz": 0
    },
    "id": "miDb_10JFL-8",
    "outputId": "750cf3f6-aace-4ff8-882b-5e9a0b0ea8e3"
   },
   "outputs": [
    {
     "data": {
      "text/plain": [
       "()"
      ]
     },
     "execution_count": 4,
     "metadata": {},
     "output_type": "execute_result"
    }
   ],
   "source": [
    "x.shape"
   ]
  },
  {
   "cell_type": "markdown",
   "metadata": {
    "id": "2XP2nCkTFL-8"
   },
   "source": [
    "### Vectors (1D tensors)\n",
    "\n",
    "An array of numbers is called a vector (or 1D tensor). Following is a Numpy vector:"
   ]
  },
  {
   "cell_type": "code",
   "execution_count": 5,
   "metadata": {
    "colab": {
     "base_uri": "https://localhost:8080/"
    },
    "executionInfo": {
     "elapsed": 3446,
     "status": "ok",
     "timestamp": 1614607226694,
     "user": {
      "displayName": "Yamna OUCHTAR",
      "photoUrl": "",
      "userId": "01529658261698667727"
     },
     "user_tz": 0
    },
    "id": "bHhIVwwYFL-8",
    "outputId": "1a9b03e3-060f-430a-fc30-f267d2562f30"
   },
   "outputs": [
    {
     "data": {
      "text/plain": [
       "array([  0,   1,   8,  27,  64, 125, 216, 343, 512, 729])"
      ]
     },
     "execution_count": 5,
     "metadata": {},
     "output_type": "execute_result"
    }
   ],
   "source": [
    "a = np.array([0, 1, 8, 27, 64, 125, 216, 343, 512, 729])\n",
    "a"
   ]
  },
  {
   "cell_type": "markdown",
   "metadata": {
    "id": "kPvyXn3IFL-9"
   },
   "source": [
    "A vector has **one axis**. "
   ]
  },
  {
   "cell_type": "code",
   "execution_count": 6,
   "metadata": {
    "colab": {
     "base_uri": "https://localhost:8080/"
    },
    "executionInfo": {
     "elapsed": 3431,
     "status": "ok",
     "timestamp": 1614607226694,
     "user": {
      "displayName": "Yamna OUCHTAR",
      "photoUrl": "",
      "userId": "01529658261698667727"
     },
     "user_tz": 0
    },
    "id": "Az85oaZdFL-9",
    "outputId": "f70dcaeb-2473-405a-eaa1-9adbbd2c5c8e"
   },
   "outputs": [
    {
     "data": {
      "text/plain": [
       "1"
      ]
     },
     "execution_count": 6,
     "metadata": {},
     "output_type": "execute_result"
    }
   ],
   "source": [
    "a.ndim"
   ]
  },
  {
   "cell_type": "markdown",
   "metadata": {
    "id": "_5gHs6heFL-9"
   },
   "source": [
    "This particular vector has ten entries, so its size is 10 and its shape is (10,)."
   ]
  },
  {
   "cell_type": "code",
   "execution_count": 7,
   "metadata": {
    "colab": {
     "base_uri": "https://localhost:8080/"
    },
    "executionInfo": {
     "elapsed": 3418,
     "status": "ok",
     "timestamp": 1614607226695,
     "user": {
      "displayName": "Yamna OUCHTAR",
      "photoUrl": "",
      "userId": "01529658261698667727"
     },
     "user_tz": 0
    },
    "id": "3z6XGhouFL-9",
    "outputId": "fd6993ca-b2b7-4450-dc01-766a9987467e"
   },
   "outputs": [
    {
     "data": {
      "text/plain": [
       "(10,)"
      ]
     },
     "execution_count": 7,
     "metadata": {},
     "output_type": "execute_result"
    }
   ],
   "source": [
    "a.shape"
   ]
  },
  {
   "cell_type": "markdown",
   "metadata": {
    "id": "gpZKM7QoFL--"
   },
   "source": [
    "Vectors can be indexed, sliced and iterated over, much like lists and other Python sequences."
   ]
  },
  {
   "cell_type": "code",
   "execution_count": 8,
   "metadata": {
    "colab": {
     "base_uri": "https://localhost:8080/"
    },
    "executionInfo": {
     "elapsed": 3404,
     "status": "ok",
     "timestamp": 1614607226695,
     "user": {
      "displayName": "Yamna OUCHTAR",
      "photoUrl": "",
      "userId": "01529658261698667727"
     },
     "user_tz": 0
    },
    "id": "Lt1Bsi-WFL--",
    "outputId": "44d98a03-4c66-48d2-9847-5c764c6d900e"
   },
   "outputs": [
    {
     "data": {
      "text/plain": [
       "8"
      ]
     },
     "execution_count": 8,
     "metadata": {},
     "output_type": "execute_result"
    }
   ],
   "source": [
    "# Access to the element in position 2\n",
    "a[2]"
   ]
  },
  {
   "cell_type": "code",
   "execution_count": 9,
   "metadata": {
    "colab": {
     "base_uri": "https://localhost:8080/"
    },
    "executionInfo": {
     "elapsed": 3391,
     "status": "ok",
     "timestamp": 1614607226696,
     "user": {
      "displayName": "Yamna OUCHTAR",
      "photoUrl": "",
      "userId": "01529658261698667727"
     },
     "user_tz": 0
    },
    "id": "bLyTmmnQFL--",
    "outputId": "717cc4f0-dc19-4834-9230-4d903befc9da"
   },
   "outputs": [
    {
     "data": {
      "text/plain": [
       "array([ 8, 27, 64])"
      ]
     },
     "execution_count": 9,
     "metadata": {},
     "output_type": "execute_result"
    }
   ],
   "source": [
    "# Access to elements from position 2 to position 4\n",
    "a[2:5]"
   ]
  },
  {
   "cell_type": "code",
   "execution_count": 10,
   "metadata": {
    "colab": {
     "base_uri": "https://localhost:8080/"
    },
    "executionInfo": {
     "elapsed": 3376,
     "status": "ok",
     "timestamp": 1614607226696,
     "user": {
      "displayName": "Yamna OUCHTAR",
      "photoUrl": "",
      "userId": "01529658261698667727"
     },
     "user_tz": 0
    },
    "id": "Rm_nMFNyFL--",
    "outputId": "d8ad43a1-b057-453f-ba85-36c678dd1e65"
   },
   "outputs": [
    {
     "data": {
      "text/plain": [
       "array([-100,    1, -100,   27, -100,  125,  216,  343,  512,  729])"
      ]
     },
     "execution_count": 10,
     "metadata": {},
     "output_type": "execute_result"
    }
   ],
   "source": [
    "# Modify elements from start to position 5, every 2nd element (Sintax: [start:stop:step])\n",
    "a[:6:2] = -100    \n",
    "a"
   ]
  },
  {
   "cell_type": "code",
   "execution_count": 11,
   "metadata": {
    "colab": {
     "base_uri": "https://localhost:8080/"
    },
    "executionInfo": {
     "elapsed": 3362,
     "status": "ok",
     "timestamp": 1614607226696,
     "user": {
      "displayName": "Yamna OUCHTAR",
      "photoUrl": "",
      "userId": "01529658261698667727"
     },
     "user_tz": 0
    },
    "id": "6lzRffKIFL-_",
    "outputId": "8b26a0e1-b0e7-4049-ac52-46c8ba154e81"
   },
   "outputs": [
    {
     "data": {
      "text/plain": [
       "array([ 729,  512,  343,  216,  125, -100,   27, -100,    1, -100])"
      ]
     },
     "execution_count": 11,
     "metadata": {},
     "output_type": "execute_result"
    }
   ],
   "source": [
    "# Reverse a\n",
    "a[::-1]"
   ]
  },
  {
   "cell_type": "code",
   "execution_count": 12,
   "metadata": {
    "colab": {
     "base_uri": "https://localhost:8080/"
    },
    "executionInfo": {
     "elapsed": 3349,
     "status": "ok",
     "timestamp": 1614607226697,
     "user": {
      "displayName": "Yamna OUCHTAR",
      "photoUrl": "",
      "userId": "01529658261698667727"
     },
     "user_tz": 0
    },
    "id": "7nK1fqCCFL-_",
    "outputId": "207d1213-2ff1-4d73-ef8b-2e03e286a06e"
   },
   "outputs": [
    {
     "name": "stdout",
     "output_type": "stream",
     "text": [
      "-100\n",
      "1\n",
      "-100\n",
      "27\n",
      "-100\n",
      "125\n",
      "216\n",
      "343\n",
      "512\n",
      "729\n"
     ]
    }
   ],
   "source": [
    "# Iterate over the elements of a\n",
    "for i in a:\n",
    "    print(i)"
   ]
  },
  {
   "cell_type": "markdown",
   "metadata": {
    "id": "_TPYn52kFL-_"
   },
   "source": [
    "### Matrices (2D tensors)\n",
    "\n",
    "An array of vectors is called a matrix (or 2D tensor).  This is a Numpy matrix:"
   ]
  },
  {
   "cell_type": "code",
   "execution_count": 13,
   "metadata": {
    "colab": {
     "base_uri": "https://localhost:8080/"
    },
    "executionInfo": {
     "elapsed": 3334,
     "status": "ok",
     "timestamp": 1614607226697,
     "user": {
      "displayName": "Yamna OUCHTAR",
      "photoUrl": "",
      "userId": "01529658261698667727"
     },
     "user_tz": 0
    },
    "id": "J-737ua0FL-_",
    "outputId": "7b760aa7-c975-4938-8b96-ed9961955525"
   },
   "outputs": [
    {
     "data": {
      "text/plain": [
       "array([[ 5, 78,  2, 34,  0],\n",
       "       [ 6, 79,  3, 35,  1],\n",
       "       [ 7, 80,  4, 36,  2],\n",
       "       [ 8, 81,  5, 37,  3]])"
      ]
     },
     "execution_count": 13,
     "metadata": {},
     "output_type": "execute_result"
    }
   ],
   "source": [
    "b = np.array([[5, 78, 2, 34, 0],\n",
    "              [6, 79, 3, 35, 1],\n",
    "              [7, 80, 4, 36, 2],\n",
    "              [8, 81, 5, 37, 3]])\n",
    "b"
   ]
  },
  {
   "cell_type": "markdown",
   "metadata": {
    "id": "8IErQ3-LFL_A"
   },
   "source": [
    "A matrix has **two axes**. "
   ]
  },
  {
   "cell_type": "code",
   "execution_count": 14,
   "metadata": {
    "colab": {
     "base_uri": "https://localhost:8080/"
    },
    "executionInfo": {
     "elapsed": 3322,
     "status": "ok",
     "timestamp": 1614607226698,
     "user": {
      "displayName": "Yamna OUCHTAR",
      "photoUrl": "",
      "userId": "01529658261698667727"
     },
     "user_tz": 0
    },
    "id": "jLQfJvQiFL_A",
    "outputId": "8487427f-81f5-46cf-e8da-d10274103fe8"
   },
   "outputs": [
    {
     "data": {
      "text/plain": [
       "2"
      ]
     },
     "execution_count": 14,
     "metadata": {},
     "output_type": "execute_result"
    }
   ],
   "source": [
    "b.ndim"
   ]
  },
  {
   "cell_type": "markdown",
   "metadata": {
    "id": "OX06-hsWFL_A"
   },
   "source": [
    "This specific matrix has four-by-five entries. Hence, its size is 20 and its shape is (4,5)."
   ]
  },
  {
   "cell_type": "code",
   "execution_count": 15,
   "metadata": {
    "colab": {
     "base_uri": "https://localhost:8080/"
    },
    "executionInfo": {
     "elapsed": 3308,
     "status": "ok",
     "timestamp": 1614607226698,
     "user": {
      "displayName": "Yamna OUCHTAR",
      "photoUrl": "",
      "userId": "01529658261698667727"
     },
     "user_tz": 0
    },
    "id": "Dpq_USUoFL_A",
    "outputId": "fcc13036-940a-4d01-d1b6-376f92eb6c1d"
   },
   "outputs": [
    {
     "data": {
      "text/plain": [
       "(4, 5)"
      ]
     },
     "execution_count": 15,
     "metadata": {},
     "output_type": "execute_result"
    }
   ],
   "source": [
    "b.shape"
   ]
  },
  {
   "cell_type": "markdown",
   "metadata": {
    "id": "d0ExHX4bFL_B"
   },
   "source": [
    "Note that:\n",
    " - You can visually interpret a matrix as a rectangular grid of numbers. \n",
    " - The entries from the first axis (axis=0) are called **rows**\n",
    " - The entries from the second axis (axis=1) are called **columns**.\n",
    " - Matrix elements can be accessed with two indices, given in a tuple separated by commas."
   ]
  },
  {
   "cell_type": "code",
   "execution_count": 16,
   "metadata": {
    "colab": {
     "base_uri": "https://localhost:8080/"
    },
    "executionInfo": {
     "elapsed": 3293,
     "status": "ok",
     "timestamp": 1614607226698,
     "user": {
      "displayName": "Yamna OUCHTAR",
      "photoUrl": "",
      "userId": "01529658261698667727"
     },
     "user_tz": 0
    },
    "id": "cga5g5TDFL_B",
    "outputId": "97762432-060b-4776-d66c-38cc08ef1dd6"
   },
   "outputs": [
    {
     "data": {
      "text/plain": [
       "36"
      ]
     },
     "execution_count": 16,
     "metadata": {},
     "output_type": "execute_result"
    }
   ],
   "source": [
    "# Acces to the element in position (2,3)\n",
    "b[2,3]"
   ]
  },
  {
   "cell_type": "code",
   "execution_count": 17,
   "metadata": {
    "colab": {
     "base_uri": "https://localhost:8080/"
    },
    "executionInfo": {
     "elapsed": 3280,
     "status": "ok",
     "timestamp": 1614607226699,
     "user": {
      "displayName": "Yamna OUCHTAR",
      "photoUrl": "",
      "userId": "01529658261698667727"
     },
     "user_tz": 0
    },
    "id": "h_WzRH9MFL_B",
    "outputId": "098c403d-0496-49da-ee59-a500539a4918"
   },
   "outputs": [
    {
     "data": {
      "text/plain": [
       "array([78, 79, 80, 81])"
      ]
     },
     "execution_count": 17,
     "metadata": {},
     "output_type": "execute_result"
    }
   ],
   "source": [
    "# Access to the 2nd column\n",
    "b[:,1]"
   ]
  },
  {
   "cell_type": "code",
   "execution_count": 18,
   "metadata": {
    "colab": {
     "base_uri": "https://localhost:8080/"
    },
    "executionInfo": {
     "elapsed": 3264,
     "status": "ok",
     "timestamp": 1614607226699,
     "user": {
      "displayName": "Yamna OUCHTAR",
      "photoUrl": "",
      "userId": "01529658261698667727"
     },
     "user_tz": 0
    },
    "id": "KrfPw_pSFL_B",
    "outputId": "9b849f89-9887-42ca-8519-7ac8b3bfd9cd"
   },
   "outputs": [
    {
     "data": {
      "text/plain": [
       "array([[ 6, 79,  3, 35,  1],\n",
       "       [ 7, 80,  4, 36,  2]])"
      ]
     },
     "execution_count": 18,
     "metadata": {},
     "output_type": "execute_result"
    }
   ],
   "source": [
    "# Access to 2nd and 3rd rows\n",
    "b[1:3,:]"
   ]
  },
  {
   "cell_type": "markdown",
   "metadata": {
    "id": "zEgYbNjbFL_C"
   },
   "source": [
    "When fewer indices are provided than the number of axes, the missing indices are considered complete slices: e.g., `b[i]` is treated as `b[i,:]`."
   ]
  },
  {
   "cell_type": "code",
   "execution_count": 19,
   "metadata": {
    "colab": {
     "base_uri": "https://localhost:8080/"
    },
    "executionInfo": {
     "elapsed": 3251,
     "status": "ok",
     "timestamp": 1614607226700,
     "user": {
      "displayName": "Yamna OUCHTAR",
      "photoUrl": "",
      "userId": "01529658261698667727"
     },
     "user_tz": 0
    },
    "id": "uq4WTUqpFL_C",
    "outputId": "df32f362-c897-4fe3-aecb-88e2c40816ed"
   },
   "outputs": [
    {
     "data": {
      "text/plain": [
       "array([ 8, 81,  5, 37,  3])"
      ]
     },
     "execution_count": 19,
     "metadata": {},
     "output_type": "execute_result"
    }
   ],
   "source": [
    "# Access the last row\n",
    "b[-1] #=b[-1,:]"
   ]
  },
  {
   "cell_type": "markdown",
   "metadata": {
    "id": "EeU4NI4lFL_C"
   },
   "source": [
    "The `None` object can be used in all slicing operations to create an axis of length one."
   ]
  },
  {
   "cell_type": "code",
   "execution_count": 20,
   "metadata": {
    "colab": {
     "base_uri": "https://localhost:8080/"
    },
    "executionInfo": {
     "elapsed": 3237,
     "status": "ok",
     "timestamp": 1614607226700,
     "user": {
      "displayName": "Yamna OUCHTAR",
      "photoUrl": "",
      "userId": "01529658261698667727"
     },
     "user_tz": 0
    },
    "id": "5Vlv4hQnFL_C",
    "outputId": "73ddf75f-dc2c-49c1-9fe4-75022240dd6c"
   },
   "outputs": [
    {
     "data": {
      "text/plain": [
       "(5,)"
      ]
     },
     "execution_count": 20,
     "metadata": {},
     "output_type": "execute_result"
    }
   ],
   "source": [
    "c = b[-1] # This is a vector\n",
    "c.shape"
   ]
  },
  {
   "cell_type": "code",
   "execution_count": 21,
   "metadata": {
    "colab": {
     "base_uri": "https://localhost:8080/"
    },
    "executionInfo": {
     "elapsed": 3224,
     "status": "ok",
     "timestamp": 1614607226701,
     "user": {
      "displayName": "Yamna OUCHTAR",
      "photoUrl": "",
      "userId": "01529658261698667727"
     },
     "user_tz": 0
    },
    "id": "M23dqJNJFL_D",
    "outputId": "2d4b3036-979a-4f49-9491-e6da42ddb3fc"
   },
   "outputs": [
    {
     "data": {
      "text/plain": [
       "(1, 5)"
      ]
     },
     "execution_count": 21,
     "metadata": {},
     "output_type": "execute_result"
    }
   ],
   "source": [
    "c = b[-1,None] # This is a matrix with one row\n",
    "c.shape"
   ]
  },
  {
   "cell_type": "code",
   "execution_count": 22,
   "metadata": {
    "colab": {
     "base_uri": "https://localhost:8080/"
    },
    "executionInfo": {
     "elapsed": 3211,
     "status": "ok",
     "timestamp": 1614607226702,
     "user": {
      "displayName": "Yamna OUCHTAR",
      "photoUrl": "",
      "userId": "01529658261698667727"
     },
     "user_tz": 0
    },
    "id": "VMSAxSwTFL_D",
    "outputId": "8e2efa33-dcd6-4a95-865f-d5ba1f5d6652"
   },
   "outputs": [
    {
     "data": {
      "text/plain": [
       "array([[ 8, 81,  5, 37,  3]])"
      ]
     },
     "execution_count": 22,
     "metadata": {},
     "output_type": "execute_result"
    }
   ],
   "source": [
    "c"
   ]
  },
  {
   "cell_type": "code",
   "execution_count": 23,
   "metadata": {
    "colab": {
     "base_uri": "https://localhost:8080/"
    },
    "executionInfo": {
     "elapsed": 3197,
     "status": "ok",
     "timestamp": 1614607226702,
     "user": {
      "displayName": "Yamna OUCHTAR",
      "photoUrl": "",
      "userId": "01529658261698667727"
     },
     "user_tz": 0
    },
    "id": "d_6jN8zPFL_D",
    "outputId": "f26df1a5-e2be-44c2-970b-dfa5e695283a"
   },
   "outputs": [
    {
     "data": {
      "text/plain": [
       "(4, 1)"
      ]
     },
     "execution_count": 23,
     "metadata": {},
     "output_type": "execute_result"
    }
   ],
   "source": [
    "c = b[:,[-1]] # This is a matrix with one column\n",
    "c.shape"
   ]
  },
  {
   "cell_type": "code",
   "execution_count": 24,
   "metadata": {
    "colab": {
     "base_uri": "https://localhost:8080/"
    },
    "executionInfo": {
     "elapsed": 3183,
     "status": "ok",
     "timestamp": 1614607226703,
     "user": {
      "displayName": "Yamna OUCHTAR",
      "photoUrl": "",
      "userId": "01529658261698667727"
     },
     "user_tz": 0
    },
    "id": "3O0O_GStFL_D",
    "outputId": "6465b5e7-f9ba-47ee-eff5-9b770e5ce4f7"
   },
   "outputs": [
    {
     "data": {
      "text/plain": [
       "array([[0],\n",
       "       [1],\n",
       "       [2],\n",
       "       [3]])"
      ]
     },
     "execution_count": 24,
     "metadata": {},
     "output_type": "execute_result"
    }
   ],
   "source": [
    "c"
   ]
  },
  {
   "cell_type": "markdown",
   "metadata": {
    "id": "h-d0dDDEFL_D"
   },
   "source": [
    "Iterating over matrices is done with respect to the rows:"
   ]
  },
  {
   "cell_type": "code",
   "execution_count": 25,
   "metadata": {
    "colab": {
     "base_uri": "https://localhost:8080/"
    },
    "executionInfo": {
     "elapsed": 3169,
     "status": "ok",
     "timestamp": 1614607226703,
     "user": {
      "displayName": "Yamna OUCHTAR",
      "photoUrl": "",
      "userId": "01529658261698667727"
     },
     "user_tz": 0
    },
    "id": "Hjy4hixOFL_E",
    "outputId": "c5812195-6989-421d-ce8e-f51a560ac09b"
   },
   "outputs": [
    {
     "name": "stdout",
     "output_type": "stream",
     "text": [
      "[ 5 78  2 34  0]\n",
      "[ 6 79  3 35  1]\n",
      "[ 7 80  4 36  2]\n",
      "[ 8 81  5 37  3]\n"
     ]
    }
   ],
   "source": [
    "for row in b:\n",
    "    print(row)"
   ]
  },
  {
   "cell_type": "markdown",
   "metadata": {
    "id": "5rmsDqxDFL_E"
   },
   "source": [
    "### ND tensors\n",
    "\n",
    "If you pack matrices in a new array, you obtain a 3D tensor. By packing 3D tensors in an array, you can create a 4D tensor, and so on. \n",
    "\n",
    "Following is a Numpy 3D tensor:"
   ]
  },
  {
   "cell_type": "code",
   "execution_count": 26,
   "metadata": {
    "colab": {
     "base_uri": "https://localhost:8080/"
    },
    "executionInfo": {
     "elapsed": 3155,
     "status": "ok",
     "timestamp": 1614607226703,
     "user": {
      "displayName": "Yamna OUCHTAR",
      "photoUrl": "",
      "userId": "01529658261698667727"
     },
     "user_tz": 0
    },
    "id": "XuEraq5vFL_E",
    "outputId": "e4e697cb-521d-4133-f494-8f84b76c04b3"
   },
   "outputs": [
    {
     "data": {
      "text/plain": [
       "array([[[ 5, 78,  2, 34,  0],\n",
       "        [ 6, 79,  3, 35,  1],\n",
       "        [ 7, 80,  4, 36,  2],\n",
       "        [ 8, 81,  5, 37,  3]],\n",
       "\n",
       "       [[78,  2, 34,  0,  5],\n",
       "        [79,  3, 35,  1,  6],\n",
       "        [80,  4, 36,  2,  7],\n",
       "        [81,  5, 37,  3,  8]],\n",
       "\n",
       "       [[ 0,  5, 78,  2, 34],\n",
       "        [ 1,  6, 79,  3, 35],\n",
       "        [ 2,  7, 80,  4, 36],\n",
       "        [ 3,  8, 81,  5, 37]]])"
      ]
     },
     "execution_count": 26,
     "metadata": {},
     "output_type": "execute_result"
    }
   ],
   "source": [
    "c = np.array([[[5, 78, 2, 34, 0],\n",
    "               [6, 79, 3, 35, 1],\n",
    "               [7, 80, 4, 36, 2],\n",
    "               [8, 81, 5, 37, 3]],\n",
    "              \n",
    "              [[78, 2, 34, 0, 5],\n",
    "               [79, 3, 35, 1, 6],\n",
    "               [80, 4, 36, 2, 7],\n",
    "               [81, 5, 37, 3, 8]],\n",
    "              \n",
    "              [[0, 5, 78, 2, 34],\n",
    "               [1, 6, 79, 3, 35],\n",
    "               [2, 7, 80, 4, 36],\n",
    "               [3, 8, 81, 5, 37]]])\n",
    "c"
   ]
  },
  {
   "cell_type": "markdown",
   "metadata": {
    "id": "prLN8IW9FL_E"
   },
   "source": [
    "A ND tensor has **3 or more** axes."
   ]
  },
  {
   "cell_type": "code",
   "execution_count": 27,
   "metadata": {
    "colab": {
     "base_uri": "https://localhost:8080/"
    },
    "executionInfo": {
     "elapsed": 3141,
     "status": "ok",
     "timestamp": 1614607226704,
     "user": {
      "displayName": "Yamna OUCHTAR",
      "photoUrl": "",
      "userId": "01529658261698667727"
     },
     "user_tz": 0
    },
    "id": "50Lts9V5FL_F",
    "outputId": "e2f72089-03a2-4ecd-e1e3-209c6a1c9935"
   },
   "outputs": [
    {
     "data": {
      "text/plain": [
       "3"
      ]
     },
     "execution_count": 27,
     "metadata": {},
     "output_type": "execute_result"
    }
   ],
   "source": [
    "c.ndim"
   ]
  },
  {
   "cell_type": "markdown",
   "metadata": {
    "id": "KRzRdZRYFL_F"
   },
   "source": [
    "This tensor has three-by-four-by-five entries. Hence, its size is 60 and its shape is (3,4,5)."
   ]
  },
  {
   "cell_type": "code",
   "execution_count": 28,
   "metadata": {
    "colab": {
     "base_uri": "https://localhost:8080/"
    },
    "executionInfo": {
     "elapsed": 3127,
     "status": "ok",
     "timestamp": 1614607226704,
     "user": {
      "displayName": "Yamna OUCHTAR",
      "photoUrl": "",
      "userId": "01529658261698667727"
     },
     "user_tz": 0
    },
    "id": "Jmmm9kigFL_F",
    "outputId": "83e1bb5f-781d-4dd6-9f45-525860df0982"
   },
   "outputs": [
    {
     "data": {
      "text/plain": [
       "(3, 4, 5)"
      ]
     },
     "execution_count": 28,
     "metadata": {},
     "output_type": "execute_result"
    }
   ],
   "source": [
    "c.shape"
   ]
  },
  {
   "cell_type": "markdown",
   "metadata": {
    "id": "Ng637-KkFL_F"
   },
   "source": [
    "Tensor elements can be accessed by giving one index per axis. "
   ]
  },
  {
   "cell_type": "code",
   "execution_count": 29,
   "metadata": {
    "colab": {
     "base_uri": "https://localhost:8080/"
    },
    "executionInfo": {
     "elapsed": 3114,
     "status": "ok",
     "timestamp": 1614607226705,
     "user": {
      "displayName": "Yamna OUCHTAR",
      "photoUrl": "",
      "userId": "01529658261698667727"
     },
     "user_tz": 0
    },
    "id": "CexFuAJ3FL_F",
    "outputId": "ecd103ac-44c5-4e20-9096-726902224676"
   },
   "outputs": [
    {
     "data": {
      "text/plain": [
       "37"
      ]
     },
     "execution_count": 29,
     "metadata": {},
     "output_type": "execute_result"
    }
   ],
   "source": [
    "# Acces to the element in position (1,3,2)\n",
    "c[1,3,2]"
   ]
  },
  {
   "cell_type": "markdown",
   "metadata": {
    "id": "bODgl4xIFL_G"
   },
   "source": [
    "Iterating over multidimensional arrays is done with respect to the first axis:"
   ]
  },
  {
   "cell_type": "code",
   "execution_count": 30,
   "metadata": {
    "colab": {
     "base_uri": "https://localhost:8080/"
    },
    "executionInfo": {
     "elapsed": 3100,
     "status": "ok",
     "timestamp": 1614607226705,
     "user": {
      "displayName": "Yamna OUCHTAR",
      "photoUrl": "",
      "userId": "01529658261698667727"
     },
     "user_tz": 0
    },
    "id": "k14INMJQFL_G",
    "outputId": "41fd8788-4027-4a4d-ff2d-05409b8128a9",
    "scrolled": true
   },
   "outputs": [
    {
     "name": "stdout",
     "output_type": "stream",
     "text": [
      "[[ 5 78  2 34  0]\n",
      " [ 6 79  3 35  1]\n",
      " [ 7 80  4 36  2]\n",
      " [ 8 81  5 37  3]]\n",
      "[[78  2 34  0  5]\n",
      " [79  3 35  1  6]\n",
      " [80  4 36  2  7]\n",
      " [81  5 37  3  8]]\n",
      "[[ 0  5 78  2 34]\n",
      " [ 1  6 79  3 35]\n",
      " [ 2  7 80  4 36]\n",
      " [ 3  8 81  5 37]]\n"
     ]
    }
   ],
   "source": [
    "for matrix in c:\n",
    "    print(matrix)"
   ]
  },
  {
   "cell_type": "markdown",
   "metadata": {
    "id": "2ZOVETzQFL_G"
   },
   "source": [
    "3---\n",
    "#### Exercise - Array creation and manipulation\n",
    "\n",
    "This is a collection of short exercises that will help you understand the basics of Numpy arrays. Solve them!\n",
    "\n",
    "1. Create a vector of size 10, with all zeros but the fifth value which is 1. *Hint:* `numpy.zeros()`.\n",
    "```\n",
    "Expected output: [0 0 0 0 1 0 0 0 0 0]\n",
    "```\n",
    "\n",
    "- Create a vector with values ranging from 10 to 19. *Hint:* `numpy.arange()`.\n",
    "```\n",
    "Expected output: [10 11 12 13 14 15 16 17 18 19]\n",
    "```\n",
    "\n",
    "- Create a 8x8 matrix and fill it with a checkerboard pattern.\n",
    "```\n",
    "Expected output: [[0 1 0 1 0 1 0 1]\n",
    "                    [1 0 1 0 1 0 1 0]\n",
    "                    [0 1 0 1 0 1 0 1]\n",
    "                    [1 0 1 0 1 0 1 0]\n",
    "                    [0 1 0 1 0 1 0 1]\n",
    "                    [1 0 1 0 1 0 1 0]\n",
    "                    [0 1 0 1 0 1 0 1]\n",
    "                    [1 0 1 0 1 0 1 0]]\n",
    "```"
   ]
  },
  {
   "cell_type": "code",
   "execution_count": 31,
   "metadata": {},
   "outputs": [
    {
     "ename": "SyntaxError",
     "evalue": "invalid syntax (2435512333.py, line 1)",
     "output_type": "error",
     "traceback": [
      "\u001b[1;36m  Cell \u001b[1;32mIn[31], line 1\u001b[1;36m\u001b[0m\n\u001b[1;33m    (0,0) (0,1) (0,2) ... (0,7)\u001b[0m\n\u001b[1;37m                      ^\u001b[0m\n\u001b[1;31mSyntaxError\u001b[0m\u001b[1;31m:\u001b[0m invalid syntax\n"
     ]
    }
   ],
   "source": [
    "(0,0) (0,1) (0,2) ... (0,7)\n",
    "(1,0) (1,1) (1,2) ... (1,7)\n",
    "\n",
    "0+1 = 1\n",
    "0+7 = 7 --> 1"
   ]
  },
  {
   "cell_type": "code",
   "execution_count": null,
   "metadata": {
    "colab": {
     "base_uri": "https://localhost:8080/"
    },
    "executionInfo": {
     "elapsed": 3086,
     "status": "ok",
     "timestamp": 1614607226705,
     "user": {
      "displayName": "Yamna OUCHTAR",
      "photoUrl": "",
      "userId": "01529658261698667727"
     },
     "user_tz": 0
    },
    "id": "CY1AWCy9FL_G",
    "outputId": "649f4a1e-29bd-4ab8-98fd-9f3705f1b2ed"
   },
   "outputs": [],
   "source": [
    "new_vector = np.zeros(10, dtype=int)\n",
    "print(new_vector)\n",
    "new_vector[4] = 1\n",
    "print(new_vector)"
   ]
  },
  {
   "cell_type": "code",
   "execution_count": null,
   "metadata": {
    "colab": {
     "base_uri": "https://localhost:8080/"
    },
    "executionInfo": {
     "elapsed": 3073,
     "status": "ok",
     "timestamp": 1614607226706,
     "user": {
      "displayName": "Yamna OUCHTAR",
      "photoUrl": "",
      "userId": "01529658261698667727"
     },
     "user_tz": 0
    },
    "id": "Z20L6v6VFL_H",
    "outputId": "f7099e95-cc54-4974-891d-43a08edd4a25"
   },
   "outputs": [],
   "source": [
    "new_vector_2 = np.arange(10, 20, 1)\n",
    "print(new_vector_2)"
   ]
  },
  {
   "cell_type": "code",
   "execution_count": null,
   "metadata": {
    "colab": {
     "base_uri": "https://localhost:8080/"
    },
    "executionInfo": {
     "elapsed": 3058,
     "status": "ok",
     "timestamp": 1614607226706,
     "user": {
      "displayName": "Yamna OUCHTAR",
      "photoUrl": "",
      "userId": "01529658261698667727"
     },
     "user_tz": 0
    },
    "id": "14m5eplxFL_H",
    "outputId": "80a7111b-7581-42ed-8059-c7f9f4c40309"
   },
   "outputs": [],
   "source": [
    "# Version to understand with for loop\n",
    "new_vector_3 = np.zeros((8, 8), dtype =int) # warning: add dtype = int else, number would be float\n",
    "print(new_vector_3)\n",
    "\n",
    "for index_row in range(new_vector_3.shape[0]):\n",
    "    for index_column in range(new_vector_3.shape[1]):\n",
    "        if (index_column + index_row)%2 != 0:\n",
    "            new_vector_3[index_row][index_column] = 1\n",
    "print(new_vector_3)"
   ]
  },
  {
   "cell_type": "code",
   "execution_count": null,
   "metadata": {
    "colab": {
     "base_uri": "https://localhost:8080/"
    },
    "executionInfo": {
     "elapsed": 3044,
     "status": "ok",
     "timestamp": 1614607226706,
     "user": {
      "displayName": "Yamna OUCHTAR",
      "photoUrl": "",
      "userId": "01529658261698667727"
     },
     "user_tz": 0
    },
    "id": "ZbZHfzbOFL_H",
    "outputId": "dbd78ffe-94b0-434f-aae0-3095450a60d9",
    "scrolled": true
   },
   "outputs": [],
   "source": [
    "# More condensed version\n",
    "new_vector_3 = np.zeros((8,8), dtype=int)\n",
    "new_vector_3[1::2,::2] = 1\n",
    "new_vector_3[::2,1::2] = 1\n",
    "print(new_vector_3)"
   ]
  },
  {
   "cell_type": "markdown",
   "metadata": {
    "id": "4Q-RzfxTFL_H"
   },
   "source": [
    "### Reshaping\n",
    "\n",
    "An array has a shape given by the number of elements along each axis:"
   ]
  },
  {
   "cell_type": "code",
   "execution_count": null,
   "metadata": {
    "colab": {
     "base_uri": "https://localhost:8080/"
    },
    "executionInfo": {
     "elapsed": 3032,
     "status": "ok",
     "timestamp": 1614607226707,
     "user": {
      "displayName": "Yamna OUCHTAR",
      "photoUrl": "",
      "userId": "01529658261698667727"
     },
     "user_tz": 0
    },
    "id": "RJcdsgNDFL_I",
    "outputId": "b19696ad-ba90-4272-e358-3e58fb7920b1"
   },
   "outputs": [],
   "source": [
    "basic = np.array(10*np.random.random((3,4)))\n",
    "print(basic)"
   ]
  },
  {
   "cell_type": "code",
   "execution_count": null,
   "metadata": {
    "colab": {
     "base_uri": "https://localhost:8080/"
    },
    "executionInfo": {
     "elapsed": 3018,
     "status": "ok",
     "timestamp": 1614607226707,
     "user": {
      "displayName": "Yamna OUCHTAR",
      "photoUrl": "",
      "userId": "01529658261698667727"
     },
     "user_tz": 0
    },
    "id": "Kq9wp7MFFL_I",
    "outputId": "02ca5edf-609b-4290-c129-5f291dea54b8"
   },
   "outputs": [],
   "source": [
    "a = np.floor(10*np.random.random((3,4)))\n",
    "\n",
    "print(\"Shape: \" + str(a.shape))\n",
    "print()\n",
    "print(a)"
   ]
  },
  {
   "cell_type": "markdown",
   "metadata": {
    "id": "rpB6WY71FL_I"
   },
   "source": [
    "The shape of an array can be changed with various commands, **without** changing the elements in the original array."
   ]
  },
  {
   "cell_type": "code",
   "execution_count": null,
   "metadata": {
    "colab": {
     "base_uri": "https://localhost:8080/"
    },
    "executionInfo": {
     "elapsed": 3004,
     "status": "ok",
     "timestamp": 1614607226707,
     "user": {
      "displayName": "Yamna OUCHTAR",
      "photoUrl": "",
      "userId": "01529658261698667727"
     },
     "user_tz": 0
    },
    "id": "6jEUrY6bFL_I",
    "outputId": "b6250544-3e09-4a57-a0a3-78729517a4c0"
   },
   "outputs": [],
   "source": [
    "# Returns the array flattened as a vector\n",
    "b = a.ravel()\n",
    "\n",
    "print(\"Shape: \" + str(b.shape))\n",
    "print()\n",
    "print(b)"
   ]
  },
  {
   "cell_type": "code",
   "execution_count": null,
   "metadata": {
    "colab": {
     "base_uri": "https://localhost:8080/"
    },
    "executionInfo": {
     "elapsed": 2992,
     "status": "ok",
     "timestamp": 1614607226708,
     "user": {
      "displayName": "Yamna OUCHTAR",
      "photoUrl": "",
      "userId": "01529658261698667727"
     },
     "user_tz": 0
    },
    "id": "Wh1QxRl_FL_J",
    "outputId": "3d24f096-e249-464d-b76d-321b431738d5"
   },
   "outputs": [],
   "source": [
    "# Returns the array with a modified shape\n",
    "b = a.reshape(6,2)\n",
    "\n",
    "print(\"Shape: \" + str(b.shape))\n",
    "print()\n",
    "print(b)"
   ]
  },
  {
   "cell_type": "code",
   "execution_count": null,
   "metadata": {
    "colab": {
     "base_uri": "https://localhost:8080/"
    },
    "executionInfo": {
     "elapsed": 2978,
     "status": "ok",
     "timestamp": 1614607226708,
     "user": {
      "displayName": "Yamna OUCHTAR",
      "photoUrl": "",
      "userId": "01529658261698667727"
     },
     "user_tz": 0
    },
    "id": "1yf7g0n2FL_J",
    "outputId": "67660986-ba60-452a-ee7d-e5aa8cb1b270"
   },
   "outputs": [],
   "source": [
    "# Returns the array, transposed\n",
    "b = a.T  \n",
    "\n",
    "print(\"Shape: \" + str(b.shape))\n",
    "print()\n",
    "print(b)"
   ]
  },
  {
   "cell_type": "markdown",
   "metadata": {
    "id": "4ul6JmOKFL_J"
   },
   "source": [
    "If a dimension is given as **-1** in a reshaping operation, the other dimensions are automatically calculated."
   ]
  },
  {
   "cell_type": "code",
   "execution_count": null,
   "metadata": {
    "colab": {
     "base_uri": "https://localhost:8080/"
    },
    "executionInfo": {
     "elapsed": 2965,
     "status": "ok",
     "timestamp": 1614607226709,
     "user": {
      "displayName": "Yamna OUCHTAR",
      "photoUrl": "",
      "userId": "01529658261698667727"
     },
     "user_tz": 0
    },
    "id": "-4lZms_IFL_J",
    "outputId": "84d10fc6-19b9-498a-841c-8fdeb5453876"
   },
   "outputs": [],
   "source": [
    "b = a.reshape(4,-1)\n",
    "\n",
    "print(\"Shape: \" + str(b.shape))\n",
    "print()\n",
    "print(b)"
   ]
  },
  {
   "cell_type": "markdown",
   "metadata": {
    "id": "-ho2oeenFL_K"
   },
   "source": [
    "The `np.reshape` function returns its argument with a modified shape, whereas the `np.array.resize` method modifies the array itself:"
   ]
  },
  {
   "cell_type": "code",
   "execution_count": null,
   "metadata": {
    "colab": {
     "base_uri": "https://localhost:8080/"
    },
    "executionInfo": {
     "elapsed": 3805,
     "status": "ok",
     "timestamp": 1614607227563,
     "user": {
      "displayName": "Yamna OUCHTAR",
      "photoUrl": "",
      "userId": "01529658261698667727"
     },
     "user_tz": 0
    },
    "id": "MnuLlqxhFL_K",
    "outputId": "0b181e06-0155-4b83-dc66-6d81933dd646"
   },
   "outputs": [],
   "source": [
    "print(\"Shape: \" + str(a.shape))\n",
    "print()\n",
    "print(a)"
   ]
  },
  {
   "cell_type": "code",
   "execution_count": null,
   "metadata": {
    "colab": {
     "base_uri": "https://localhost:8080/"
    },
    "executionInfo": {
     "elapsed": 3793,
     "status": "ok",
     "timestamp": 1614607227564,
     "user": {
      "displayName": "Yamna OUCHTAR",
      "photoUrl": "",
      "userId": "01529658261698667727"
     },
     "user_tz": 0
    },
    "id": "d9yyoxfSFL_K",
    "outputId": "69dc0e36-83ea-43b4-a735-39e3f795eafc"
   },
   "outputs": [],
   "source": [
    "a.resize((2,6))\n",
    "\n",
    "print(\"Shape: \" + str(a.shape))\n",
    "print()\n",
    "print(a)"
   ]
  },
  {
   "cell_type": "markdown",
   "metadata": {
    "id": "V1xKEP_qFL_K"
   },
   "source": [
    "Note that:\n",
    "\n",
    " - The order of the elements resulting from `ravel()` is “C-style”, in which the **rightmost index** changes the fastest: `a[0,0]`, then `a[0,1]`, and so on. \n",
    " - If the array is reshaped (or resized) to some other shape, again the array is treated as “C-style”. \n",
    " - The functions `ravel()`, `reshape()` and `resize()` can also be instructed, using an optional argument, to use FORTRAN-style arrays, in which the **leftmost index** changes the fastest: `a[0,0]`, then `a[1,0]`, and so on."
   ]
  },
  {
   "cell_type": "markdown",
   "metadata": {
    "id": "rD3OGTrXFL_L"
   },
   "source": [
    "---\n",
    "#### Exercise - Preparing the training data\n",
    "\n",
    "In computer science, an image is represented by a 3D array of shape `(height, width, depth)`. However, when you use an image as the input of a machine learning algorithm, you usually convert it to a 4D tensor of shape `(1, depth, height, width)`.\n",
    "\n",
    "![image2vector_kiank.png](attachment:image2vector_kiank.png)\n",
    "\n",
    "**Instructions:** Implement a function `image2tensor()` that takes a tensor of shape `(height, width, depth)` and returns a tensor of shape `(1, depth, height, width)`. Please don't hardcode the dimensions of image as a constant. Instead look up the quantities you need with `image.shape`. \n",
    "\n",
    "**Hints:**\n",
    " - [`np.transpose()`](https://docs.scipy.org/doc/numpy/reference/generated/numpy.transpose.html)\n",
    " - [`np.reshape()`](https://docs.scipy.org/doc/numpy/reference/generated/numpy.reshape.html)"
   ]
  },
  {
   "cell_type": "code",
   "execution_count": null,
   "metadata": {
    "deletable": false,
    "id": "3tmGIADmFL_L",
    "nbgrader": {
     "checksum": "aef5092bcd29e7dc9ab7122e11b39981",
     "grade": false,
     "grade_id": "cell-e4273ad6b5d94df0",
     "locked": false,
     "schema_version": 1,
     "solution": true
    }
   },
   "outputs": [],
   "source": [
    "def image2tensor(image):\n",
    "    \"\"\"\n",
    "    Argument:\n",
    "    image -- a numpy array of shape (height, width, depth)\n",
    "    \n",
    "    Returns:\n",
    "    v -- a vector of shape (1, depth, height, width)\n",
    "    \"\"\"\n",
    "    \n",
    "    ### START CODE HERE ### (≈ 2 lines of code)\n",
    "    v = image.transpose((-1,0,1))       # Change (3, 4, 2) → (2, 3, 4)   \n",
    "    # OR\n",
    "    # v = image.transpose((2, 0, 1))\n",
    "    v = v.reshape((1,) + v.shape)       # Change (2, 3, 4) → (1, 2, 3, 4)\n",
    "    # OR\n",
    "    # v = v[np.newaxis, ...]\n",
    "    \n",
    "    return v"
   ]
  },
  {
   "cell_type": "code",
   "execution_count": null,
   "metadata": {
    "colab": {
     "base_uri": "https://localhost:8080/"
    },
    "executionInfo": {
     "elapsed": 3774,
     "status": "ok",
     "timestamp": 1614607227566,
     "user": {
      "displayName": "Yamna OUCHTAR",
      "photoUrl": "",
      "userId": "01529658261698667727"
     },
     "user_tz": 0
    },
    "id": "P2ElcDbCFL_M",
    "outputId": "2104b149-a97c-4842-a7b6-83324331dda0"
   },
   "outputs": [],
   "source": [
    "image = np.stack( [np.arange(12).reshape(3,4), np.arange(50,62).reshape(3,4)], axis=2 )\n",
    "\n",
    "print(\"Shape: \" + str(image.shape))\n",
    "print()\n",
    "print(image) "
   ]
  },
  {
   "cell_type": "code",
   "execution_count": null,
   "metadata": {
    "colab": {
     "base_uri": "https://localhost:8080/"
    },
    "executionInfo": {
     "elapsed": 3760,
     "status": "ok",
     "timestamp": 1614607227566,
     "user": {
      "displayName": "Yamna OUCHTAR",
      "photoUrl": "",
      "userId": "01529658261698667727"
     },
     "user_tz": 0
    },
    "id": "VYHWvVUTFL_M",
    "outputId": "5596e516-ae2f-4eef-d074-e7e1e82de3ff"
   },
   "outputs": [],
   "source": [
    "v = image2tensor(image)\n",
    "\n",
    "print(\"Shape: \" + str(v.shape))\n",
    "print()\n",
    "print(v)"
   ]
  },
  {
   "cell_type": "markdown",
   "metadata": {
    "id": "V5S3WivtFL_M"
   },
   "source": [
    "**Expected Output**: \n",
    "\n",
    "<table style = \"width:40%\">\n",
    "    <tr>\n",
    "    <td>** Shape **</td> \n",
    "        <td>(1,2,3,4)</td> \n",
    "    </tr>\n",
    "\n",
    "</table>"
   ]
  },
  {
   "cell_type": "code",
   "execution_count": null,
   "metadata": {
    "deletable": false,
    "editable": false,
    "id": "HIABK7xSFL_N",
    "nbgrader": {
     "checksum": "23ddbd7f47b648754642ea4d54da81ad",
     "grade": true,
     "grade_id": "cell-51d959afcfb7eb1b",
     "locked": true,
     "points": 1,
     "schema_version": 1,
     "solution": false
    }
   },
   "outputs": [],
   "source": [
    "assert v.shape == (1,2,3,4)\n",
    "assert np.all(v[0,0] == image[:,:,0])\n",
    "assert np.all(v[0,1] == image[:,:,1])"
   ]
  },
  {
   "cell_type": "markdown",
   "metadata": {
    "id": "ID1ezEWiFL_N"
   },
   "source": [
    "### Copies & Views\n",
    "\n",
    "When operating and manipulating arrays, their data is sometimes copied into a new array and sometimes not. This is often a source of confusion for beginners. There are three cases:\n",
    " 1. No Copy at All\n",
    " - Shallow copy (view)\n",
    " - Deep copy"
   ]
  },
  {
   "cell_type": "markdown",
   "metadata": {
    "id": "MNjkvZpAFL_N"
   },
   "source": [
    "#### No copy at all\n",
    "\n",
    "Simple assignments make no copy of array objects or of their data."
   ]
  },
  {
   "cell_type": "code",
   "execution_count": null,
   "metadata": {
    "id": "_77FIIi0FL_N"
   },
   "outputs": [],
   "source": [
    "a = np.arange(12)"
   ]
  },
  {
   "cell_type": "code",
   "execution_count": null,
   "metadata": {
    "id": "l_c6pXT2FL_N"
   },
   "outputs": [],
   "source": [
    "b = a # no new object is created"
   ]
  },
  {
   "cell_type": "code",
   "execution_count": null,
   "metadata": {
    "colab": {
     "base_uri": "https://localhost:8080/"
    },
    "executionInfo": {
     "elapsed": 3723,
     "status": "ok",
     "timestamp": 1614607227569,
     "user": {
      "displayName": "Yamna OUCHTAR",
      "photoUrl": "",
      "userId": "01529658261698667727"
     },
     "user_tz": 0
    },
    "id": "9l9J4_jxFL_O",
    "outputId": "1eccaa5d-7a3d-4b6d-d8ab-18c95f266d83"
   },
   "outputs": [],
   "source": [
    "b is a"
   ]
  },
  {
   "cell_type": "markdown",
   "metadata": {
    "id": "UZQUfYz7FL_O"
   },
   "source": [
    "Python passes mutable objects as references, so function calls make no copy."
   ]
  },
  {
   "cell_type": "code",
   "execution_count": null,
   "metadata": {
    "id": "wfW3jmS0FL_O"
   },
   "outputs": [],
   "source": [
    "def f(x):\n",
    "    print(id(x))"
   ]
  },
  {
   "cell_type": "code",
   "execution_count": null,
   "metadata": {
    "colab": {
     "base_uri": "https://localhost:8080/"
    },
    "executionInfo": {
     "elapsed": 3703,
     "status": "ok",
     "timestamp": 1614607227570,
     "user": {
      "displayName": "Yamna OUCHTAR",
      "photoUrl": "",
      "userId": "01529658261698667727"
     },
     "user_tz": 0
    },
    "id": "sxJVYyEiFL_O",
    "outputId": "78c068c5-77b0-4eef-f798-61d4eebf29d2"
   },
   "outputs": [],
   "source": [
    "id(a)"
   ]
  },
  {
   "cell_type": "code",
   "execution_count": null,
   "metadata": {
    "colab": {
     "base_uri": "https://localhost:8080/"
    },
    "executionInfo": {
     "elapsed": 3690,
     "status": "ok",
     "timestamp": 1614607227570,
     "user": {
      "displayName": "Yamna OUCHTAR",
      "photoUrl": "",
      "userId": "01529658261698667727"
     },
     "user_tz": 0
    },
    "id": "ZTAnt_F1FL_O",
    "outputId": "66c08394-fcd8-4493-fbb1-ab3a044ae477"
   },
   "outputs": [],
   "source": [
    "f(a)"
   ]
  },
  {
   "cell_type": "markdown",
   "metadata": {
    "id": "agofk76ZFL_S"
   },
   "source": [
    "#### Shallow copy\n",
    "\n",
    "Different array objects can share the same data. The view method creates a new array object that looks at the same data."
   ]
  },
  {
   "cell_type": "code",
   "execution_count": null,
   "metadata": {
    "colab": {
     "base_uri": "https://localhost:8080/"
    },
    "executionInfo": {
     "elapsed": 3678,
     "status": "ok",
     "timestamp": 1614607227571,
     "user": {
      "displayName": "Yamna OUCHTAR",
      "photoUrl": "",
      "userId": "01529658261698667727"
     },
     "user_tz": 0
    },
    "id": "4RK7e4ZgFL_S",
    "outputId": "b8668ae1-2cdf-4213-ae87-37e70380ceb2"
   },
   "outputs": [],
   "source": [
    "a = np.array([[i for i in np.arange(j,j+4)] for j in np.arange(0,12,4)])\n",
    "a"
   ]
  },
  {
   "cell_type": "code",
   "execution_count": null,
   "metadata": {
    "id": "dA2QDmsGFL_S"
   },
   "outputs": [],
   "source": [
    "c = a.view()"
   ]
  },
  {
   "cell_type": "code",
   "execution_count": null,
   "metadata": {
    "colab": {
     "base_uri": "https://localhost:8080/"
    },
    "executionInfo": {
     "elapsed": 3658,
     "status": "ok",
     "timestamp": 1614607227572,
     "user": {
      "displayName": "Yamna OUCHTAR",
      "photoUrl": "",
      "userId": "01529658261698667727"
     },
     "user_tz": 0
    },
    "id": "jCcM66_bFL_T",
    "outputId": "5c680118-1ab5-4a13-d55a-621038e3c763"
   },
   "outputs": [],
   "source": [
    "c is a"
   ]
  },
  {
   "cell_type": "code",
   "execution_count": null,
   "metadata": {
    "colab": {
     "base_uri": "https://localhost:8080/"
    },
    "executionInfo": {
     "elapsed": 3645,
     "status": "ok",
     "timestamp": 1614607227572,
     "user": {
      "displayName": "Yamna OUCHTAR",
      "photoUrl": "",
      "userId": "01529658261698667727"
     },
     "user_tz": 0
    },
    "id": "4ndZkT_WFL_T",
    "outputId": "3e531099-8176-4c55-c0d4-72983203b805"
   },
   "outputs": [],
   "source": [
    "c.base is a"
   ]
  },
  {
   "cell_type": "code",
   "execution_count": null,
   "metadata": {
    "id": "m09qURbpFL_T"
   },
   "outputs": [],
   "source": [
    "c.resize(2,6)"
   ]
  },
  {
   "cell_type": "code",
   "execution_count": null,
   "metadata": {
    "colab": {
     "base_uri": "https://localhost:8080/"
    },
    "executionInfo": {
     "elapsed": 3626,
     "status": "ok",
     "timestamp": 1614607227574,
     "user": {
      "displayName": "Yamna OUCHTAR",
      "photoUrl": "",
      "userId": "01529658261698667727"
     },
     "user_tz": 0
    },
    "id": "pxjgGpLnFL_T",
    "outputId": "29e1d071-fdef-4b4b-834f-ea16c00da29b"
   },
   "outputs": [],
   "source": [
    "a.shape"
   ]
  },
  {
   "cell_type": "code",
   "execution_count": null,
   "metadata": {
    "id": "2t2UDQmeFL_T"
   },
   "outputs": [],
   "source": [
    "c[1,2] = 100"
   ]
  },
  {
   "cell_type": "code",
   "execution_count": null,
   "metadata": {
    "colab": {
     "base_uri": "https://localhost:8080/"
    },
    "executionInfo": {
     "elapsed": 3606,
     "status": "ok",
     "timestamp": 1614607227575,
     "user": {
      "displayName": "Yamna OUCHTAR",
      "photoUrl": "",
      "userId": "01529658261698667727"
     },
     "user_tz": 0
    },
    "id": "hGntoak1FL_U",
    "outputId": "094eee05-c4c2-41e9-ad68-516b9820f74c"
   },
   "outputs": [],
   "source": [
    "print(a)"
   ]
  },
  {
   "cell_type": "markdown",
   "metadata": {
    "id": "LyUEkNNTFL_U"
   },
   "source": [
    "Slicing an array returns a view of it:"
   ]
  },
  {
   "cell_type": "code",
   "execution_count": null,
   "metadata": {
    "id": "Jx2jOIa8FL_U"
   },
   "outputs": [],
   "source": [
    "s = a[:,1:3]\n",
    "s[:] = 10 "
   ]
  },
  {
   "cell_type": "code",
   "execution_count": null,
   "metadata": {
    "colab": {
     "base_uri": "https://localhost:8080/"
    },
    "executionInfo": {
     "elapsed": 3586,
     "status": "ok",
     "timestamp": 1614607227576,
     "user": {
      "displayName": "Yamna OUCHTAR",
      "photoUrl": "",
      "userId": "01529658261698667727"
     },
     "user_tz": 0
    },
    "id": "sie-u8c8FL_U",
    "outputId": "7d7e0fea-9581-4f42-a47e-cb9383a654d2"
   },
   "outputs": [],
   "source": [
    "print(a)"
   ]
  },
  {
   "cell_type": "markdown",
   "metadata": {
    "id": "UvmNIoKtFL_U"
   },
   "source": [
    "#### Deep copy\n",
    "\n",
    "The `copy()` method makes a complete copy of the array and its data."
   ]
  },
  {
   "cell_type": "code",
   "execution_count": null,
   "metadata": {
    "id": "k0MTzKWhFL_V"
   },
   "outputs": [],
   "source": [
    "d = a.copy()  # a new array object with new data is created"
   ]
  },
  {
   "cell_type": "code",
   "execution_count": null,
   "metadata": {
    "colab": {
     "base_uri": "https://localhost:8080/"
    },
    "executionInfo": {
     "elapsed": 3568,
     "status": "ok",
     "timestamp": 1614607227578,
     "user": {
      "displayName": "Yamna OUCHTAR",
      "photoUrl": "",
      "userId": "01529658261698667727"
     },
     "user_tz": 0
    },
    "id": "oo9bBXeIFL_V",
    "outputId": "14e8aaee-fc33-4dcd-f4ba-a33b6d4f7e65"
   },
   "outputs": [],
   "source": [
    "d is a"
   ]
  },
  {
   "cell_type": "code",
   "execution_count": null,
   "metadata": {
    "colab": {
     "base_uri": "https://localhost:8080/"
    },
    "executionInfo": {
     "elapsed": 3555,
     "status": "ok",
     "timestamp": 1614607227578,
     "user": {
      "displayName": "Yamna OUCHTAR",
      "photoUrl": "",
      "userId": "01529658261698667727"
     },
     "user_tz": 0
    },
    "id": "eUwv0e7LFL_V",
    "outputId": "62b8729b-14b5-4f69-dde6-7d08d8bb6876"
   },
   "outputs": [],
   "source": [
    "d.base is a   "
   ]
  },
  {
   "cell_type": "code",
   "execution_count": null,
   "metadata": {
    "id": "z0q0-E8KFL_V"
   },
   "outputs": [],
   "source": [
    "d[0,0] = 9999"
   ]
  },
  {
   "cell_type": "code",
   "execution_count": null,
   "metadata": {
    "colab": {
     "base_uri": "https://localhost:8080/"
    },
    "executionInfo": {
     "elapsed": 3536,
     "status": "ok",
     "timestamp": 1614607227580,
     "user": {
      "displayName": "Yamna OUCHTAR",
      "photoUrl": "",
      "userId": "01529658261698667727"
     },
     "user_tz": 0
    },
    "id": "vTfnaItuFL_V",
    "outputId": "7198fa3d-f485-4106-ec8c-b1f3e0c2879d"
   },
   "outputs": [],
   "source": [
    "print(a)"
   ]
  },
  {
   "cell_type": "code",
   "execution_count": null,
   "metadata": {
    "colab": {
     "base_uri": "https://localhost:8080/"
    },
    "executionInfo": {
     "elapsed": 3523,
     "status": "ok",
     "timestamp": 1614607227580,
     "user": {
      "displayName": "Yamna OUCHTAR",
      "photoUrl": "",
      "userId": "01529658261698667727"
     },
     "user_tz": 0
    },
    "id": "h7jk-ry4FL_W",
    "outputId": "4e3d0cc8-8fcc-4c77-baf1-06af26f215df"
   },
   "outputs": [],
   "source": [
    "print(d)"
   ]
  },
  {
   "cell_type": "markdown",
   "metadata": {
    "id": "RUqKNSOYFL_W"
   },
   "source": [
    "## 2. Tensor operations"
   ]
  },
  {
   "cell_type": "markdown",
   "metadata": {
    "id": "kELo6qlQFL_W"
   },
   "source": [
    "### Element-wise operations\n",
    "\n",
    "Arithmetic operations on arrays operate **element-by-element**. A new array is created and filled with the result."
   ]
  },
  {
   "cell_type": "markdown",
   "metadata": {
    "id": "A2cZ72lkFL_X"
   },
   "source": [
    "Unlike in many matrix languages, the product operator `*` operates **element-wise** in NumPy arrays, and does not correspond to matrix multiplication. There are special functions for linear algebra that we will cover later."
   ]
  },
  {
   "cell_type": "markdown",
   "metadata": {
    "id": "yiqQTFIEFL_X"
   },
   "source": [
    "In binary operations, the two arrays should be the same size. Errors are thrown if arrays do not match in size."
   ]
  },
  {
   "cell_type": "markdown",
   "metadata": {
    "id": "L6KZKu2AFL_Y"
   },
   "source": [
    "One exception to the above rule is given by operations between a tensor and a scalar."
   ]
  },
  {
   "cell_type": "markdown",
   "metadata": {
    "id": "Y5jxKHJiFL_Z"
   },
   "source": [
    "NumPy provides standard mathematical functions, such as `sin`, `cos`, and `exp`. They operate **element-wise** on an array, producing an array as output."
   ]
  },
  {
   "cell_type": "markdown",
   "metadata": {
    "id": "c7O8jtRyFL_Z"
   },
   "source": [
    "---\n",
    "#### Sigmoid function\n",
    "\n",
    "The *sigmoid* is a non-linear function that plays a central role in Logistic Regression and Neural Networks. Mathematically, it is defined as \n",
    "\n",
    "$${\\rm sigmoid}(x) = \\frac{1}{1+e^{-x}}.$$ \n",
    "\n",
    "**Instructions:** Build a function that returns the sigmoid of a Numpy array `x`. Note that the sigmoid must be computed on every element of `x`.\n",
    "\n",
    "$${\\rm sigmoid}({\\rm x}) = \\begin{bmatrix}\n",
    "    {\\rm sigmoid}(x_1)  \\\\\n",
    "    {\\rm sigmoid}(x_2)  \\\\\n",
    "    \\vdots  \\\\\n",
    "    {\\rm sigmoid}(x_N)  \\\\\n",
    "\\end{bmatrix}\n",
    "= \\begin{bmatrix}\n",
    "    \\dfrac{1}{1+e^{-x_1}}  \\\\\n",
    "    \\dfrac{1}{1+e^{-x_2}}  \\\\\n",
    "    \\vdots  \\\\\n",
    "    \\dfrac{1}{1+e^{-x_N}}  \\\\\n",
    "\\end{bmatrix} $$"
   ]
  },
  {
   "cell_type": "code",
   "execution_count": null,
   "metadata": {
    "deletable": false,
    "id": "WXtW4g4UFL_Z",
    "nbgrader": {
     "checksum": "04c7a806d3060b58b88706089e07cea8",
     "grade": false,
     "grade_id": "cell-002abf7f1c2d7e56",
     "locked": false,
     "schema_version": 1,
     "solution": true
    }
   },
   "outputs": [],
   "source": [
    "def sigmoid(x):\n",
    "    \"\"\"\n",
    "    Compute the sigmoid of x\n",
    "\n",
    "    Arguments:\n",
    "    x -- A scalar or numpy array of any size\n",
    "\n",
    "    Return:\n",
    "    s -- sigmoid(x)\n",
    "    \"\"\"\n",
    "    \n",
    "    ### START CODE HERE ### (≈ 1 line of code)\n",
    "    s = 1/(1+np.exp(-x))\n",
    "    ### END CODE HERE ###\n",
    "    \n",
    "    return s"
   ]
  },
  {
   "cell_type": "code",
   "execution_count": null,
   "metadata": {
    "colab": {
     "base_uri": "https://localhost:8080/"
    },
    "executionInfo": {
     "elapsed": 1541,
     "status": "ok",
     "timestamp": 1614607244069,
     "user": {
      "displayName": "Yamna OUCHTAR",
      "photoUrl": "",
      "userId": "01529658261698667727"
     },
     "user_tz": 0
    },
    "id": "YKESifQeFL_Z",
    "outputId": "0f564aca-a20f-4a30-ae17-6e6811acb4d2"
   },
   "outputs": [],
   "source": [
    "x = np.array([1, 2, 3])\n",
    "s = sigmoid(x)\n",
    "\n",
    "print('Sigmoid([1,2,3]) = ' + str(s))"
   ]
  },
  {
   "cell_type": "markdown",
   "metadata": {
    "id": "aIoGp1mdFL_a"
   },
   "source": [
    "**Expected Output**: \n",
    "<table>\n",
    "    <tr> \n",
    "        <td> **sigmoid([1,2,3])**</td> \n",
    "        <td> [ 0.73105858,  0.88079708,  0.95257413] </td> \n",
    "    </tr>\n",
    "</table> "
   ]
  },
  {
   "cell_type": "code",
   "execution_count": null,
   "metadata": {
    "deletable": false,
    "editable": false,
    "id": "jjx-AFWLFL_a",
    "nbgrader": {
     "checksum": "83cc19ec018aa0d251153f2fc657a1f0",
     "grade": true,
     "grade_id": "cell-51e8870090a58894",
     "locked": true,
     "points": 1,
     "schema_version": 1,
     "solution": false
    }
   },
   "outputs": [],
   "source": [
    "s.shape == (3,1)\n",
    "np.testing.assert_almost_equal(s, [0.73105858, 0.88079708, 0.95257413])"
   ]
  },
  {
   "cell_type": "markdown",
   "metadata": {
    "id": "rX5kGqevFL_a"
   },
   "source": [
    "### Reduction\n",
    "\n",
    "Some operations act on all the elements in a tensor, returning a scalar."
   ]
  },
  {
   "cell_type": "markdown",
   "metadata": {
    "id": "Ydc3bYqrFL_b"
   },
   "source": [
    "By default, these operations apply to the array as though it were a list of numbers, regardless of its shape. However, by specifying the `axis` parameter, you can apply an operation along the specified axis of a multidimensional array (matrices and ND tensors), placing the results in a return array."
   ]
  },
  {
   "cell_type": "markdown",
   "metadata": {
    "id": "39E52B9ZFL_c"
   },
   "source": [
    "Note that many reduction operations change the dimensions of the input array: e.g., a matrix becomes a vector. You can keep the dimensions of the input array by setting the `keepdims` parameter to `True`."
   ]
  },
  {
   "cell_type": "markdown",
   "metadata": {
    "id": "Rz5FTxPVFL_d"
   },
   "source": [
    "---\n",
    "\n",
    "#### Row normalization\n",
    "\n",
    "A common technique we use in Machine Learning is to normalize the data. Here, by normalization we mean dividing each row vector of x by its norm. For example, if $$x = \n",
    "\\begin{bmatrix}\n",
    "    0 & 3 & 4 \\\\\n",
    "    2 & 6 & 4 \\\\\n",
    "\\end{bmatrix}\\tag{3}$$ then $${\\sf row\\_norms}(x) = \\begin{bmatrix}\n",
    "    5 \\\\\n",
    "    \\sqrt{56} \\\\\n",
    "\\end{bmatrix}\\tag{4} $$and        $$ {\\sf x\\_normalized} = \\frac{x}{{\\sf row\\_norms}(x)} = \\begin{bmatrix}\n",
    "    0 & \\frac{3}{5} & \\frac{4}{5} \\\\\n",
    "    \\frac{2}{\\sqrt{56}} & \\frac{6}{\\sqrt{56}} & \\frac{4}{\\sqrt{56}} \\\\\n",
    "\\end{bmatrix}\\tag{5}$$ \n",
    "\n",
    "Note that you can divide matrices of different sizes and it works fine: this is called broadcasting and you're going to learn about it in the next section.\n",
    "\n",
    "\n",
    "**Instruction**: Implement `normalizeRows()` to normalize the rows of a matrix. After applying this function to an input matrix x, each row of x should be a vector of unit length (length = 1)."
   ]
  },
  {
   "cell_type": "code",
   "execution_count": null,
   "metadata": {
    "deletable": false,
    "id": "Fyt32RndFL_d",
    "nbgrader": {
     "checksum": "47c8dab19f78806ca3ad9d6f6bfff3f7",
     "grade": false,
     "grade_id": "cell-6e17c32538fa6204",
     "locked": false,
     "schema_version": 1,
     "solution": true
    }
   },
   "outputs": [],
   "source": [
    "def normalizeRows(x):\n",
    "    \"\"\"\n",
    "    Implement a function that normalizes each row of the matrix x (to have unit length).\n",
    "    \n",
    "    Argument:\n",
    "    x -- A numpy matrix of shape (n, m)\n",
    "    \n",
    "    Returns:\n",
    "    x -- The normalized (by row) numpy matrix. You are allowed to modify x.\n",
    "    \"\"\"\n",
    "    \n",
    "    ### START CODE HERE ### (≈ 2 lines of code)\n",
    "    \n",
    "    # Compute the norm of the rows ofx. Use np.linalg.norm(..., ord = ..., axis = ..., keepdims = True)\n",
    "    norms = np.linalg.norm(x, ord = 2, axis = 1, keepdims = True)\n",
    "    \n",
    "    # Divide x by its norms.\n",
    "    x_norm = x/norms\n",
    "    \n",
    "    # OR\n",
    "    #norms = np.linalg.norm(x, ord = 2, axis = 1)\n",
    "    #x_norm = x/norms.reshape(-1 1)\n",
    "    \n",
    "    \n",
    "    ### END CODE HERE ###\n",
    "    \n",
    "    return x_norm"
   ]
  },
  {
   "cell_type": "code",
   "execution_count": null,
   "metadata": {
    "colab": {
     "base_uri": "https://localhost:8080/"
    },
    "executionInfo": {
     "elapsed": 1459,
     "status": "ok",
     "timestamp": 1614607244079,
     "user": {
      "displayName": "Yamna OUCHTAR",
      "photoUrl": "",
      "userId": "01529658261698667727"
     },
     "user_tz": 0
    },
    "id": "82ARo4tEFL_d",
    "outputId": "0e6cdada-9288-43f9-d019-16f919926dc1"
   },
   "outputs": [],
   "source": [
    "x = np.array([[0, 3, 4],\n",
    "              [1, 6, 4]])\n",
    "x_norm = normalizeRows(x)\n",
    "\n",
    "print(\"normalizeRows(x):\\n\" + str(x_norm))"
   ]
  },
  {
   "cell_type": "markdown",
   "metadata": {
    "id": "Bw8jdZXPFL_d"
   },
   "source": [
    "**Expected Output**: \n",
    "\n",
    "<table style=\"width:60%\">\n",
    "\n",
    "     <tr> \n",
    "       <td> **normalizeRows(x)** </td> \n",
    "       <td> [[ 0.          0.6         0.8       ]\n",
    "             [0.13736056  0.82416338  0.54944226]]\n",
    "       </td> \n",
    "     </tr>\n",
    "    \n",
    "   \n",
    "</table>"
   ]
  },
  {
   "cell_type": "code",
   "execution_count": null,
   "metadata": {
    "deletable": false,
    "editable": false,
    "id": "go_WQg3UFL_d",
    "nbgrader": {
     "checksum": "ed97b192d97eaab6e950450f6d54108b",
     "grade": true,
     "grade_id": "cell-1422cdd02c62abff",
     "locked": true,
     "points": 1,
     "schema_version": 1,
     "solution": false
    }
   },
   "outputs": [],
   "source": [
    "assert x.shape == x_norm.shape\n",
    "np.testing.assert_almost_equal(x_norm, [[0., 0.6, 0.8],[0.13736, 0.82416, 0.54944]], decimal=4)"
   ]
  },
  {
   "cell_type": "markdown",
   "metadata": {
    "id": "a4IiGba2FL_d"
   },
   "source": [
    "In `normalizeRows()`, you can try to print the shapes of `x_norm` and `x`, and then rerun the assessment. You'll find out that they have different shapes. This is normal given that `x_norm` takes the norm of each row of `x`. So `x_norm` has the same number of rows but only 1 column. So how did it work when you divided `x` by `x_norm` ? This is called broadcasting and we'll talk about it now! "
   ]
  },
  {
   "cell_type": "markdown",
   "metadata": {
    "id": "rIClWME6FL_e"
   },
   "source": [
    "### Broadcasting\n",
    "\n",
    "Numpy operations usually involve a pair of arrays, which are combined on an element-by-element basis to produce the result. In the simplest case, the two arrays must have exactly the same shape. However, this constraint can be relaxed when the smaller array can be \"broadcasted\" across the larger array so that they have compatible shapes. The simplest broadcasting example occurs when an array and a scalar value are combined in an operation:"
   ]
  },
  {
   "cell_type": "markdown",
   "metadata": {
    "id": "2XpvLvSIFL_e"
   },
   "source": [
    "We can think of the scalar `b` being **stretched** during the arithmetic operation into an array with the same shape as the vector `a`. NumPy is smart enough to use the original scalar value without actually making copies, so that broadcasting operations are memory and computationally efficient.\n",
    "\n",
    "More generally, when operating on two arrays, Numpy compares their shapes according to the following rules:\n",
    "\n",
    "- **First rule.** If the input arrays do not have the same number of dimensions, a **1** is repeatedly prepended to the shapes of the smaller array until it has the same number of dimensions as the bigger array.\n",
    "\n",
    "- **Second rule.** Arrays with size **1** along a particular dimension are *stretched* to match the size of the array with the largest shape along that dimension.\n",
    "\n",
    "After application of these rules, the sizes of all arrays must match, otherwise an exception is thrown (indicating that the arrays have incompatible shapes). \n",
    "\n",
    "Here are examples of shapes that broadcast:\n",
    "```\n",
    "A      (2d array):  5 x 4\n",
    "B      (1d array):      1\n",
    "Result (2d array):  5 x 4\n",
    "\n",
    "A      (2d array):  5 x 4\n",
    "B      (1d array):      4\n",
    "Result (2d array):  5 x 4\n",
    "\n",
    "A      (3d array):  15 x 3 x 5\n",
    "B      (3d array):  15 x 1 x 5\n",
    "Result (3d array):  15 x 3 x 5\n",
    "\n",
    "A      (3d array):  15 x 3 x 5\n",
    "B      (2d array):       3 x 5\n",
    "Result (3d array):  15 x 3 x 5\n",
    "\n",
    "A      (3d array):  15 x 3 x 5\n",
    "B      (2d array):       3 x 1\n",
    "Result (3d array):  15 x 3 x 5\n",
    "\n",
    "A      (4d array):  8 x 1 x 6 x 1\n",
    "B      (3d array):      7 x 1 x 5\n",
    "Result (4d array):  8 x 7 x 6 x 5\n",
    "```"
   ]
  },
  {
   "cell_type": "markdown",
   "metadata": {
    "id": "bU1umTirFL_f"
   },
   "source": [
    "The `None` index operator inserts a new axis into `a`, making it a `4x1` matrix. Then, it is combined with `b`, which has shape `(3,)`, yielding a `4x3` array."
   ]
  },
  {
   "cell_type": "markdown",
   "metadata": {
    "id": "W-9ELqWoFL_f"
   },
   "source": [
    "Here are examples of shapes that **do not** broadcast:\n",
    "```\n",
    "A      (1d array):  3\n",
    "B      (1d array):  4\n",
    "\n",
    "A      (2d array):      2 x 1\n",
    "B      (3d array):  8 x 4 x 3\n",
    "```"
   ]
  },
  {
   "cell_type": "markdown",
   "metadata": {
    "id": "f3NmM5mhFL_f"
   },
   "source": [
    "When the trailing dimensions of the arrays are unequal, broadcasting fails because it is impossible to align the values in the rows of the 1st array with the elements of the 2nd arrays for element-by-element addition."
   ]
  },
  {
   "cell_type": "markdown",
   "metadata": {
    "id": "gzpQbhKnFL_f",
    "jp-MarkdownHeadingCollapsed": true
   },
   "source": [
    "---\n",
    "\n",
    "#### Softmax function\n",
    "\n",
    "The *softmax* is a normalizing function used when your algorithm needs to classify two or more classes. Mathematically, it is defined as follows.\n",
    "\n",
    "- For a vector:\n",
    "\n",
    "$${\\sf softmax}({\\rm x}) = {\\sf softmax}\\left(\\begin{bmatrix}\n",
    "    x_1  &\n",
    "    x_2 &\n",
    "    ...  &\n",
    "    x_N  \n",
    "\\end{bmatrix}\\right) = \\begin{bmatrix}\n",
    "     \\dfrac{e^{x_1}}{\\sum_{j=1}^N e^{x_j}}  &&\n",
    "    \\dfrac{e^{x_2}}{\\sum_{j=1}^N e^{x_j}}  &&\n",
    "    \\dots  &&\n",
    "    \\dfrac{e^{x_N}}{\\sum_{j=1}^N e^{x_j}} \n",
    "\\end{bmatrix} $$\n",
    "\n",
    "- For a matrix:\n",
    "\n",
    "$${\\sf softmax}({\\rm X}) = {\\sf softmax}\\left(\\begin{bmatrix}\n",
    "    x_{11} & x_{12} & x_{13} & \\dots  & x_{1n} \\\\\n",
    "    x_{21} & x_{22} & x_{23} & \\dots  & x_{2n} \\\\\n",
    "    \\vdots & \\vdots & \\vdots & \\ddots & \\vdots \\\\\n",
    "    x_{m1} & x_{m2} & x_{m3} & \\dots  & x_{mn}\n",
    "\\end{bmatrix}\\right) = \\begin{bmatrix}\n",
    "    \\frac{e^{x_{11}}}{\\sum_{j}e^{x_{1j}}} & \\frac{e^{x_{12}}}{\\sum_{j}e^{x_{1j}}} & \\frac{e^{x_{13}}}{\\sum_{j}e^{x_{1j}}} & \\dots  & \\frac{e^{x_{1n}}}{\\sum_{j}e^{x_{1j}}} \\\\\n",
    "    \\frac{e^{x_{21}}}{\\sum_{j}e^{x_{2j}}} & \\frac{e^{x_{22}}}{\\sum_{j}e^{x_{2j}}} & \\frac{e^{x_{23}}}{\\sum_{j}e^{x_{2j}}} & \\dots  & \\frac{e^{x_{2n}}}{\\sum_{j}e^{x_{2j}}} \\\\\n",
    "    \\vdots & \\vdots & \\vdots & \\ddots & \\vdots \\\\\n",
    "    \\frac{e^{x_{m1}}}{\\sum_{j}e^{x_{mj}}} & \\frac{e^{x_{m2}}}{\\sum_{j}e^{x_{mj}}} & \\frac{e^{x_{m3}}}{\\sum_{j}e^{x_{mj}}} & \\dots  & \\frac{e^{x_{mn}}}{\\sum_{j}e^{x_{mj}}}\n",
    "\\end{bmatrix} = \\begin{pmatrix}\n",
    "    {\\sf softmax}\\text{(first row)}  \\\\\n",
    "    {\\sf softmax}\\text{(second row)} \\\\\n",
    "    ...  \\\\\n",
    "    {\\sf softmax}\\text{(last row)} \\\\\n",
    "\\end{pmatrix} $$\n",
    "\n",
    "**Instructions:** Implement the function `softmax()` in Numpy."
   ]
  },
  {
   "cell_type": "code",
   "execution_count": null,
   "metadata": {
    "deletable": false,
    "id": "4GpvXdj1FL_f",
    "nbgrader": {
     "checksum": "9b5e2cb1e7ac8d9c2c6e88abd5919a4a",
     "grade": false,
     "grade_id": "cell-5c1477e62b442d94",
     "locked": false,
     "schema_version": 1,
     "solution": true
    }
   },
   "outputs": [],
   "source": [
    "def softmax(x):\n",
    "    \"\"\"Calculates the softmax for each row of the input x.\n",
    "\n",
    "    Your code should work for a row vector and also for matrices of shape (n, m).\n",
    "\n",
    "    Argument:\n",
    "    x -- A numpy matrix of shape (n,m)\n",
    "\n",
    "    Returns:\n",
    "    s -- A numpy matrix equal to the softmax of x, of shape (n,m)\n",
    "    \"\"\"\n",
    "    \n",
    "    ### START CODE HERE ### (≈ 3 lines of code)\n",
    "    \n",
    "    # Compute the exponential of every element in x. Use np.exp(...).\n",
    "    x_exp = np.exp(x)\n",
    "\n",
    "    # Create a vector x_sum that sums each row of x_exp. Use np.sum(..., axis = ..., keepdims = True).\n",
    "    x_sum = np.sum(x_exp, axis = 1, keepdims = True)\n",
    "\n",
    "    # Compute softmax by dividing x_exp by x_sum. It should automatically use numpy broadcasting.\n",
    "    s = x_exp/x_sum\n",
    "\n",
    "    ### END CODE HERE ###\n",
    "    \n",
    "    return s"
   ]
  },
  {
   "cell_type": "code",
   "execution_count": null,
   "metadata": {
    "colab": {
     "base_uri": "https://localhost:8080/"
    },
    "executionInfo": {
     "elapsed": 1563,
     "status": "ok",
     "timestamp": 1614607260131,
     "user": {
      "displayName": "Yamna OUCHTAR",
      "photoUrl": "",
      "userId": "01529658261698667727"
     },
     "user_tz": 0
    },
    "id": "8Z-Z7x-iFL_g",
    "outputId": "76140f4e-00a1-4b15-b327-524bf8f0331c"
   },
   "outputs": [],
   "source": [
    "x = np.array([\n",
    "    [9, 2, 5, 0, 0],\n",
    "    [7, 5, 0, 0 ,0]])\n",
    "y = softmax(x)\n",
    "\n",
    "print(\"softmax(x):\\n\" + str(y))"
   ]
  },
  {
   "cell_type": "markdown",
   "metadata": {
    "id": "vVZbZTeiFL_g"
   },
   "source": [
    "**Expected Output**:\n",
    "\n",
    "<table style=\"width:60%\">\n",
    "\n",
    "     <tr> \n",
    "       <td> **softmax(x)** </td> \n",
    "       <td> [[  9.80897665e-01   8.94462891e-04   1.79657674e-02   1.21052389e-04\n",
    "    1.21052389e-04]\n",
    " [  8.78679856e-01   1.18916387e-01   8.01252314e-04   8.01252314e-04\n",
    "    8.01252314e-04]]</td> \n",
    "     </tr>\n",
    "</table>\n"
   ]
  },
  {
   "cell_type": "code",
   "execution_count": null,
   "metadata": {
    "deletable": false,
    "editable": false,
    "id": "Ea3RUdRlFL_g",
    "nbgrader": {
     "checksum": "3ed2cdb5a25fa28a67acf295b3bd6c16",
     "grade": true,
     "grade_id": "cell-791f67f998ea7464",
     "locked": true,
     "points": 1,
     "schema_version": 1,
     "solution": false
    }
   },
   "outputs": [],
   "source": [
    "assert x.shape == y.shape\n",
    "np.testing.assert_almost_equal(y, \n",
    "    [[9.80897665e-01, 8.94462891e-04, 1.79657674e-02, 1.21052389e-04, 1.21052389e-04],\n",
    "     [8.78679856e-01, 1.18916387e-01, 8.01252314e-04, 8.01252314e-04, 8.01252314e-04]], \n",
    "    decimal=4)"
   ]
  },
  {
   "cell_type": "markdown",
   "metadata": {
    "id": "kT9AhR5NFL_g"
   },
   "source": [
    "**Note**: If you print the shapes of `x_exp`, `x_sum` and `s` above and rerun the assessment cell, you will see that `x_sum` is of shape (2,1) while `x_exp` and `s` are of shape (2,5). **`x_exp/x_sum`** works due to python broadcasting."
   ]
  },
  {
   "cell_type": "markdown",
   "metadata": {
    "id": "YaG7iY9xFL_g"
   },
   "source": [
    "## 3. Vectorization\n",
    "\n",
    "In machine learning, you deal with very large datasets. Hence, a slow function can become a huge bottleneck in your algorithm and can result in a model that takes ages to run. To make sure that your code is  computationally efficient, you will use vectorization. Vectorization can be roughly divided in two classes:\n",
    "1. the problem you're trying to solve is inherently vectorizable and only requires a few numpy tricks to make it faster,\n",
    "2. you fundamentally have to rethink your problem in order to make it vectorizable.\n",
    "\n",
    "Luckly, most of machine learning algorithms fall in the first category. In the following, you will see a couple of useful vectorization tricks."
   ]
  },
  {
   "cell_type": "markdown",
   "metadata": {
    "id": "yxQ_9jckFL_h"
   },
   "source": [
    "### Scalar product\n",
    "\n",
    "Let us consider the following problem:\n",
    " - Given two vectors `x` and `y` of the same size, we want to compute the sum of `x[i]*y[i]` for all indices `i`. \n",
    "\n",
    "One simple and obvious solution is to write the following function."
   ]
  },
  {
   "cell_type": "markdown",
   "metadata": {
    "id": "X_y45qZFFL_h"
   },
   "source": [
    "However, this implementation requires a loop, which is known to be slow in Python."
   ]
  },
  {
   "cell_type": "code",
   "execution_count": null,
   "metadata": {
    "colab": {
     "base_uri": "https://localhost:8080/"
    },
    "executionInfo": {
     "elapsed": 1761,
     "status": "ok",
     "timestamp": 1614607260362,
     "user": {
      "displayName": "Yamna OUCHTAR",
      "photoUrl": "",
      "userId": "01529658261698667727"
     },
     "user_tz": 0
    },
    "id": "4tzd833vFL_h",
    "outputId": "752ce4c9-b3ec-43ce-b9c5-20c20a1bac22"
   },
   "outputs": [],
   "source": [
    "import timeit\n",
    "\n",
    "TEST_CODE = ''' \n",
    "x = np.random.randn(10000)\n",
    "y = compute_dot_python(x,x)'''\n",
    "\n",
    "SETUP_CODE = ''' \n",
    "from __main__ import compute_dot_python \n",
    "import numpy as np'''\n",
    "\n",
    "sec = timeit.timeit(TEST_CODE, setup=SETUP_CODE, number=100) / 100\n",
    "\n",
    "print (\"Computation time (python code) =\", 1000*sec, \"ms\")"
   ]
  },
  {
   "cell_type": "markdown",
   "metadata": {
    "id": "6xG5EuK8FL_h"
   },
   "source": [
    "How to vectorize our problem? It's simple: by removing the **unnecessary loop.** \n",
    "\n",
    "If you remember your linear algebra course, you may have identified the expression `result += x[i] * y[i]` as a scalar product. Mathematically, the scalar product between two (column) vectors $x\\in\\mathbb{R}^N$ and $y\\in\\mathbb{R}^N$ is\n",
    "\n",
    "$$\n",
    "x^\\top y = [x_1,\\dots,x_N]\\begin{bmatrix}y_1\\\\\\vdots\\\\y_N\\end{bmatrix} = x_1 y_1 + \\dots + x_N y_N = \\sum_{n=1}^N x_n y_n\n",
    "$$\n",
    "\n",
    "Numpy provides the function `np.dot()` to do exactly this. \n",
    "\n",
    "**Remark:** `np.dot()` is different from `np.multiply()` and the `*` operator, which perform an element-wise multiplication."
   ]
  },
  {
   "cell_type": "code",
   "execution_count": null,
   "metadata": {
    "colab": {
     "base_uri": "https://localhost:8080/"
    },
    "executionInfo": {
     "elapsed": 1754,
     "status": "ok",
     "timestamp": 1614607260363,
     "user": {
      "displayName": "Yamna OUCHTAR",
      "photoUrl": "",
      "userId": "01529658261698667727"
     },
     "user_tz": 0
    },
    "id": "VmWK9MgtFL_i",
    "outputId": "61c2c2ed-efcb-4886-d49b-5a529ba33f2d"
   },
   "outputs": [],
   "source": [
    "import timeit\n",
    "\n",
    "TEST_CODE = ''' \n",
    "x = np.random.randn(10000)\n",
    "y = np.dot(x, x)'''\n",
    "\n",
    "SETUP_CODE = ''' \n",
    "from __main__ import compute_dot_python \n",
    "import numpy as np'''\n",
    "\n",
    "sec = timeit.timeit(TEST_CODE, setup=SETUP_CODE, number=100) / 100\n",
    "\n",
    "print (\"Computation time (numpy function) =\", 1000*sec, \"ms\")"
   ]
  },
  {
   "cell_type": "markdown",
   "metadata": {
    "id": "xYOFCQX3FL_i"
   },
   "source": [
    "As you have noticed, the vectorized implementation is much cleaner and more efficient. For bigger vectors, the difference in running time is even larger!"
   ]
  },
  {
   "cell_type": "markdown",
   "metadata": {
    "id": "6qvC_y7XFL_i"
   },
   "source": [
    "---\n",
    "#### Logistic model\n",
    "\n",
    "The logistic model is used in Machine Learning to perform binary classification. Mathematically, it is defined as \n",
    "\n",
    "$$\n",
    "f_{\\rm w}({\\rm x}) = {\\sf sigmoid}({\\rm w}^\\top {\\rm x}) = {\\sf sigmoid}(w_0 + w_1 x_1 + \\dots + w_Q x_Q)\n",
    "$$\n",
    "\n",
    "where \n",
    "\n",
    "$$\n",
    "{\\rm w} = \\begin{bmatrix}w_0\\\\w_1\\\\\\vdots\\\\w_Q\\end{bmatrix} \\in \\mathbb{R}^{Q+1}\n",
    "\\qquad\\qquad\n",
    "{\\rm x} = \\begin{bmatrix}1\\\\x_1\\\\\\vdots\\\\x_Q\\end{bmatrix} \\in \\mathbb{R}^{Q+1}\n",
    "$$\n",
    "\n",
    "with the convention $x_0=1$.\n",
    "\n",
    "**Instructions**: Implement the logistic model using `np.dot()`. The function takes the vectors `w` and `x` as inputs. Note that such vectors don't have the same length. You can get around this by using one of following tricks:\n",
    "1. Insert **1** at the beginning of `x`, and multiply it with `w`.\n",
    "2. Slice `w` by removing its first element `w[0]`, multiply the remaining elements `w[1], ..., w[Q]` with `x`, and then add `w[0]` to the result."
   ]
  },
  {
   "cell_type": "code",
   "execution_count": null,
   "metadata": {
    "deletable": false,
    "id": "ZmnBH7NAFL_i",
    "nbgrader": {
     "checksum": "0845d0eda66165d8f6df7a0d0b818a77",
     "grade": false,
     "grade_id": "cell-c60c11b9d1d22f6d",
     "locked": false,
     "schema_version": 1,
     "solution": true
    }
   },
   "outputs": [],
   "source": [
    "def logistic_prediction_v0(w, x):\n",
    "    \"\"\"Calculates the logistic prediction of the input x.\n",
    "     \n",
    "    Arguments:\n",
    "    w -- A numpy vector of shape (Q+1,)\n",
    "    x -- A numpy vector of shape (Q  ,)\n",
    "\n",
    "    Returns:\n",
    "    s -- A scalar equal to the logistic prediction of x\n",
    "    \"\"\"\n",
    "    \n",
    "    ### START CODE HERE ### (≈ 2 lines of code)\n",
    "    \n",
    "    # Compute w0 + w1*x1 + ... + wQ*xQ. Use np.dot(...).\n",
    "    x = np.append(1, x)\n",
    "    w_dot_x = np.dot(w, x)\n",
    "    # OR\n",
    "    #w_dot_x = np.dot(w[1:], x)\n",
    "    #w_dot_x = w[0] + w_dot_x\n",
    "    \n",
    "    # Evaluate the sigmoid function in x_dot_w. Use your function implemented before.\n",
    "    s = sigmoid(w_dot_x)\n",
    "    \n",
    "    ### END CODE HERE ###\n",
    "    \n",
    "    return s"
   ]
  },
  {
   "cell_type": "code",
   "execution_count": null,
   "metadata": {
    "colab": {
     "base_uri": "https://localhost:8080/"
    },
    "executionInfo": {
     "elapsed": 4,
     "status": "ok",
     "timestamp": 1644427167308,
     "user": {
      "displayName": "Yamna OUCHTAR",
      "photoUrl": "https://lh3.googleusercontent.com/a/default-user=s64",
      "userId": "01529658261698667727"
     },
     "user_tz": -60
    },
    "id": "JkcdrTYJFL_i",
    "outputId": "5ccd8f4a-0f77-4c0b-f1cc-aaf10e67d2b4"
   },
   "outputs": [],
   "source": [
    "import numpy as np\n",
    "x = np.array([3, 2, 7])\n",
    "w = np.array([-3, 2, 0.5, -1])\n",
    "\n",
    "s = logistic_prediction_v0(w,x)\n",
    "\n",
    "print(\"logistic_prediction_v0(w,x) = \" + str(s))"
   ]
  },
  {
   "cell_type": "markdown",
   "metadata": {
    "id": "a4PVH5pyFL_j"
   },
   "source": [
    "**Expected Output**:\n",
    "\n",
    "<table style=\"width:50%\">\n",
    "    <tr>\n",
    "        <td>  ** logistic prediction (v0) **  </td>\n",
    "      <td> 0.04742587 </td>\n",
    "    </tr>\n",
    "</table>"
   ]
  },
  {
   "cell_type": "code",
   "execution_count": null,
   "metadata": {
    "deletable": false,
    "editable": false,
    "id": "F9BwA_T7FL_j",
    "nbgrader": {
     "checksum": "16bf97d0908e5974f64dc06c752bda3a",
     "grade": true,
     "grade_id": "cell-e3eb2cbc79333edd",
     "locked": true,
     "points": 1,
     "schema_version": 1,
     "solution": false
    }
   },
   "outputs": [],
   "source": [
    "assert s.shape == ()\n",
    "np.testing.assert_almost_equal(s, 0.04742587, decimal=4)"
   ]
  },
  {
   "cell_type": "markdown",
   "metadata": {
    "id": "L2Z5Ioz6FL_j"
   },
   "source": [
    "### Matrix-vector product\n",
    "\n",
    "The function `np.dot()` is also capable of performing matrix-vector or vector-matrix products. Assume that `A` is a matrix of size $N\\times K$, `b` is a vector of size $K$, and `c` is a vector of size $N$:\n",
    "\n",
    "$$\n",
    "A = \n",
    "\\begin{bmatrix}\n",
    "a_{1,1} & \\dots & a_{1,K}\\\\\n",
    "\\vdots &  & \\vdots\\\\\n",
    "a_{N,1} & \\dots & a_{N,K}\\\\\n",
    "\\end{bmatrix}\n",
    "\\qquad\\qquad\n",
    "b = \\begin{bmatrix}b_1\\\\\\vdots\\\\b_K\\end{bmatrix}\n",
    "\\qquad\\qquad\n",
    "c = \\begin{bmatrix}c_1\\\\\\vdots\\\\c_N\\end{bmatrix}\n",
    "$$\n",
    "\n",
    "Mathematically, the exact operation performed by `np.dot()` depends on the order of inputs:\n",
    "\n",
    "- **`np.dot(A,b)`** multiplies `b` with the *rows* of `A`\n",
    "\n",
    "$$\n",
    "Ab = \\left[ \\sum_{k=1}^K a_{n,k} b_k \\right]_{1\\le n\\le N}\n",
    "$$\n",
    "\n",
    "- **`np.dot(c,A)`** multiplies `c` with the *columns* of `A` \n",
    "\n",
    "$$\n",
    "c^\\top A = \\left[ \\sum_{n=1}^N a_{n,k} c_n \\right]_{1\\le k\\le K}\n",
    "$$\n",
    "\n",
    "In both cases, the result is a vector (1-D array)."
   ]
  },
  {
   "cell_type": "markdown",
   "metadata": {
    "id": "TXv1xc_dFL_j"
   },
   "source": [
    "---\n",
    "\n",
    "#### Prediction on batch\n",
    "\n",
    "In logistic regression, you normally need to compute the prediction for many samples ${\\rm x}^{(1)}, \\dots, {\\rm x}^{(N)}$. This computation can be easily vectorized.\n",
    "\n",
    "- Stack the samples as rows of a matrix $X$ with size $N\\times Q$:\n",
    "\n",
    "$$\n",
    "X = \\begin{bmatrix}\n",
    "\\_\\!\\_\\; {{\\rm x}^{(1)}}^\\top \\_\\!\\_ \\\\\n",
    "\\vdots\\\\\n",
    "\\_\\!\\_\\; {{\\rm x}^{(N)}}^\\top \\_\\!\\_ \\\\\n",
    "\\end{bmatrix}.\n",
    "$$\n",
    "\n",
    "- Compute the products $z_n = {\\rm w}^\\top{\\rm x}^{(n)}$ for every index $n$. This is equivalent to multiplying $X$ by ${\\rm w}$:\n",
    "\n",
    "$$ {\\rm z} = X{\\rm w} =\n",
    "\\begin{bmatrix}\n",
    "{\\rm w}^\\top{\\rm x}^{(1)}\\\\\n",
    "\\vdots\\\\\n",
    "{\\rm w}^\\top{\\rm x}^{(N)}\n",
    "\\end{bmatrix}.$$\n",
    "\n",
    "\n",
    "- Compute the logistic function of $z_n$ for every index $n$:\n",
    "\n",
    "$$\n",
    "{\\sf sigmoid}({\\rm z}) =\n",
    "\\begin{bmatrix}\n",
    "{\\sf sigmoid}(z_1)\\\\\n",
    "\\vdots\\\\\n",
    "{\\sf sigmoid}(z_N)\\\\\n",
    "\\end{bmatrix}.\n",
    "$$\n",
    "\n",
    "\n",
    "\n",
    "**Instructions**: Modify your implementation of `logistic_prediction()` so that it takes a vector `w` and a matrix `X` as inputs. However, pay attention to the fact that `X` is a matrix of size $N\\times Q$, while `w` is a vector of length $Q+1$. As before, you can either slice `w`, or insert a column of **1** in front of `X`.\n",
    "\n"
   ]
  },
  {
   "cell_type": "code",
   "execution_count": null,
   "metadata": {
    "deletable": false,
    "id": "h4sV6PfKFL_j",
    "nbgrader": {
     "checksum": "6dfefcb7206554962496acd9227ade99",
     "grade": false,
     "grade_id": "cell-0421400d422d341f",
     "locked": false,
     "schema_version": 1,
     "solution": true
    }
   },
   "outputs": [],
   "source": [
    "def logistic_prediction(w, x):\n",
    "    \"\"\"Calculates the logistic prediction for each row of the input x.\n",
    "     \n",
    "    Arguments:\n",
    "    w -- A numpy vector of shape (Q+1,)\n",
    "    x -- A numpy matrix of shape ( N, Q)\n",
    "\n",
    "    Returns:\n",
    "    s -- A numpy vector of shape (N,)\n",
    "    \"\"\"\n",
    "    \n",
    "    ### START CODE HERE ### (≈ 2 lines of code)\n",
    "    \n",
    "    # Compute w0 + w1*x1 + ... + wQ*xQ. Use np.dot(...).\n",
    "    #x = np.append([[1]*x.shape[0]], x.T, axis=0)\n",
    "    #w_dot_x = np.dot(x.T, w)\n",
    "    x = np.concatenate((np.ones((x.shape[0],1)), x), axis = 1)\n",
    "    w_dot_x = np.dot(x, w)\n",
    "    \n",
    "    # Evaluate the sigmoid function in x_dot_w. Use your function implemented before.\n",
    "    s = sigmoid(w_dot_x)\n",
    "    \n",
    "    ### END CODE HERE ###\n",
    "    \n",
    "    return s"
   ]
  },
  {
   "cell_type": "code",
   "execution_count": null,
   "metadata": {
    "colab": {
     "base_uri": "https://localhost:8080/"
    },
    "executionInfo": {
     "elapsed": 5,
     "status": "ok",
     "timestamp": 1644428910860,
     "user": {
      "displayName": "Yamna OUCHTAR",
      "photoUrl": "https://lh3.googleusercontent.com/a/default-user=s64",
      "userId": "01529658261698667727"
     },
     "user_tz": -60
    },
    "id": "VubhtBqMFL_j",
    "outputId": "f2fe94ec-9086-4a85-b7d2-95489784d313"
   },
   "outputs": [],
   "source": [
    "X = np.array([[4, -5,  2],\n",
    "              [5,  3, -3],\n",
    "              [5,  2,  1],\n",
    "              [8,  6,  9],\n",
    "              [5, -6,  2]])\n",
    "\n",
    "y = logistic_prediction(w, X)\n",
    "\n",
    "print(\"y.shape: \" + str(y.shape))\n",
    "print(\"logistic_prediction(w,X): \" + str(y))"
   ]
  },
  {
   "cell_type": "markdown",
   "metadata": {
    "id": "yPeQfB58FL_k"
   },
   "source": [
    "**Expected Output**:\n",
    "\n",
    "<table style=\"width:50%\">\n",
    "    <tr>\n",
    "      <td>  ** y.shape **  </td>\n",
    "      <td> (5,) </td>\n",
    "    </tr>\n",
    "        <tr>\n",
    "      <td>  ** logistic prediction **  </td>\n",
    "      <td> [0.62245933 0.99998987 0.99908895 0.99908895 0.88079708] </td>\n",
    "    </tr>\n",
    "</table>"
   ]
  },
  {
   "cell_type": "code",
   "execution_count": null,
   "metadata": {
    "deletable": false,
    "editable": false,
    "id": "4zGgEjkGFL_k",
    "nbgrader": {
     "checksum": "9dcf38e6b9c3005a8b76bb8e8936424c",
     "grade": true,
     "grade_id": "cell-574784464c041353",
     "locked": true,
     "points": 1,
     "schema_version": 1,
     "solution": false
    }
   },
   "outputs": [],
   "source": [
    "assert y.shape == (5,)\n",
    "np.testing.assert_almost_equal(y, [0.62245933, 0.99998987, 0.99908895, 0.99908895, 0.88079708], decimal=4)"
   ]
  },
  {
   "cell_type": "markdown",
   "metadata": {
    "id": "EthYJJIiFL_k"
   },
   "source": [
    "### Matrix multiplication\n",
    "\n",
    "When both inputs are matrices (2-D arrays), the function `np.dot()` performs a matrix multiplication.\n",
    "\n",
    "- Given two matrices $A\\in\\mathbb{R}^{M\\times N}$ and $B\\in\\mathbb{R}^{N\\times K}$, their product is equal to the scalar product between the rows of $A$ and the columns of $B$:\n",
    "\n",
    "$$\n",
    "AB = \n",
    "\\begin{bmatrix}\n",
    "\\_\\!\\_\\; {\\rm a}_1^\\top \\,\\_\\!\\_ \\\\\n",
    "\\vdots\\\\\n",
    "\\_\\!\\_\\; {\\rm a}_M^\\top \\,\\_\\!\\_ \\\\\n",
    "\\end{bmatrix}\n",
    "\\begin{bmatrix}\n",
    "| & & |\\\\[-1em]\n",
    "{\\rm b}_1 & \\dots & {\\rm b}_K\\\\\n",
    "| & & |\\\\\n",
    "\\end{bmatrix}\n",
    "=\n",
    "\\begin{bmatrix}\n",
    "{\\rm a}_1^\\top{\\rm b}_1 & \\dots & {\\rm a}_1^\\top{\\rm b}_K\\\\\n",
    "\\vdots & & \\vdots\\\\\n",
    "{\\rm a}_M^\\top{\\rm b}_1 & \\dots & {\\rm a}_M^\\top{\\rm b}_K\n",
    "\\end{bmatrix}.\n",
    "$$\n",
    "\n",
    "\n",
    "- In general, the inputs of `np.dot()` can be scalars (0-D arrays), vectors (1-D arrays), matrices (2-D arrays), or tensors (N-D arrays). \n",
    "\n",
    "\n",
    "- The exact meaning of `np.dot()` depends on the shape of its inputs."
   ]
  },
  {
   "cell_type": "markdown",
   "metadata": {
    "id": "TmCQ8A5dFL_k"
   },
   "source": [
    "#### Multiclass prediction\n",
    "\n",
    "In multiclass logistic regression, you have many parameter vectors ${\\rm w}_1, \\dots, {\\rm w}_K$ (one for each class), and you need to compute the prediction for many samples ${\\rm x}^{(1)}, \\dots, {\\rm x}^{(N)}$. This computation can be also vectorized. \n",
    "\n",
    "- Store the parameter vectors as columns of a matrix $W$ with size $(Q+1)\\times K$.\n",
    "\n",
    "$$\n",
    "W = \\begin{bmatrix}\n",
    "| & & |\\\\[-1em]\n",
    "{\\rm w}_1 & \\dots & {\\rm w}_K\\\\\n",
    "| & & |\\\\\n",
    "\\end{bmatrix}.\n",
    "$$\n",
    "\n",
    "\n",
    "- Compute the products $z_{n,k} = {{\\rm x}^{(n)}}^\\top {\\rm w}_k$ for every index $k$ and $n$. This is equivalent to multiplying $X$ by $W$:\n",
    "\n",
    "$$ Z = XW = \n",
    "\\begin{bmatrix}\n",
    "{{\\rm x}^{(1)}}^\\top{\\rm w}_1 & \\dots & {{\\rm x}^{(1)}}^\\top{\\rm w}_K\\\\\n",
    "\\vdots & & \\vdots\\\\\n",
    "{{\\rm x}^{(N)}}^\\top{\\rm w}_1 & \\dots & {{\\rm x}^{(N)}}^\\top{\\rm w}_K\n",
    "\\end{bmatrix}.\n",
    "$$\n",
    "\n",
    "\n",
    "- Compute the softmax on every row ${\\rm z}_n$ of $Z$:\n",
    "\n",
    "$$\n",
    "{\\sf softmax}(Z) = \n",
    "\\begin{bmatrix}\n",
    "{\\sf softmax}({\\rm z}_1)\\\\\n",
    "\\vdots\\\\\n",
    "{\\sf softmax}({\\rm z}_N)\n",
    "\\end{bmatrix}.\n",
    "$$\n",
    "\n",
    "**Instructions**: Implement the softmax prediction using the function `np.dot()`. However, pay attention to the fact that `X` is a matrix of size $N\\times Q$, while `W` is a matrix of size $(Q+1)\\times K$. As before, you can either insert a column of **1** in front of `X`, or slice `W`."
   ]
  },
  {
   "cell_type": "code",
   "execution_count": null,
   "metadata": {
    "deletable": false,
    "id": "by7JO6hjFL_k",
    "nbgrader": {
     "checksum": "38fa3c3500b67a3ff07e3780947fa927",
     "grade": false,
     "grade_id": "cell-28d12f7fa132eae1",
     "locked": false,
     "schema_version": 1,
     "solution": true
    }
   },
   "outputs": [],
   "source": [
    "def softmax_prediction(w, x):\n",
    "    \"\"\"Calculates the logistic prediction for each row of the input X.\n",
    "     \n",
    "    Arguments:\n",
    "    w -- A numpy matrix of shape (Q+1,K)\n",
    "    x -- A numpy matrix of shape ( N, Q)\n",
    "\n",
    "    Returns:\n",
    "    s -- A numpy vector of shape (N,K)\n",
    "    \"\"\"\n",
    "    \n",
    "    ### START CODE HERE ### (≈ 2 lines of code)\n",
    "    \n",
    "    # Compute w0 + w1*x1 + ... + wQ*xQ. Use np.dot(...).\n",
    "    #x = np.append([[1]*x.shape[0]], x.T, axis=0)\n",
    "    #w_dot_x = np.dot(x.T,w)\n",
    "    # OR\n",
    "    x = np.concatenate((np.ones((x.shape[0],1)), x), axis = 1)\n",
    "    w_dot_x = np.dot(x, w)\n",
    "    \n",
    "    # Evaluate the softmax function in x_dot_w. Use your function implemented before.\n",
    "    s = softmax(w_dot_x)\n",
    "    \n",
    "    ### END CODE HERE ###\n",
    "    \n",
    "    return s"
   ]
  },
  {
   "cell_type": "code",
   "execution_count": null,
   "metadata": {
    "colab": {
     "base_uri": "https://localhost:8080/"
    },
    "executionInfo": {
     "elapsed": 4,
     "status": "ok",
     "timestamp": 1644428938189,
     "user": {
      "displayName": "Yamna OUCHTAR",
      "photoUrl": "https://lh3.googleusercontent.com/a/default-user=s64",
      "userId": "01529658261698667727"
     },
     "user_tz": -60
    },
    "id": "MkAEwS8hFL_l",
    "outputId": "5fc76f07-aaf1-4af4-edb0-7e04178e288c"
   },
   "outputs": [],
   "source": [
    "W = np.array(\n",
    "    [[-3,  2,  4,  5,  6,  7,  2], \n",
    "     [ 2, -1,  4, -2,  4,  2, -7], \n",
    "     [ 1,  2, -4,  6, -1,  5,  6], \n",
    "     [-1,  1,  6,  7,  3, -3,  5]\n",
    "    ]\n",
    ")\n",
    "\n",
    "y = softmax_prediction(W, X)\n",
    "\n",
    "print(\"y.shape: \" + str(y.shape))\n",
    "print(\"\\nsoftmax_prediction(w,x):\\n\\n\" + str(y))\n",
    "print(\"\\nargmax: \" + str( np.argmax(y, axis=1) ))"
   ]
  },
  {
   "cell_type": "code",
   "execution_count": null,
   "metadata": {},
   "outputs": [],
   "source": [
    "print('la somme:',sum(y[0]))\n",
    "y[0]\n"
   ]
  },
  {
   "cell_type": "markdown",
   "metadata": {
    "id": "MWW-F5h2FL_l"
   },
   "source": [
    "**Expected Output**:\n",
    "\n",
    "<table style=\"width:80%\">\n",
    "    <tr>\n",
    "      <td>  ** y.shape **  </td>\n",
    "      <td> (5,7) </td>\n",
    "    </tr>\n",
    "        <tr>\n",
    "      <td>  ** softmax prediction **  </td>\n",
    "      <td> [[  3.53262855e-24   1.18506486e-27   9.99999994e-01   1.46248622e-31\n",
    "    5.60279641e-09   2.93748210e-30   2.74878499e-43]\n",
    " [  6.91440011e-13   1.56288219e-18   3.87399763e-21   5.24288566e-22\n",
    "    1.87952882e-12   1.00000000e+00   1.46248623e-31]\n",
    " [  5.30303054e-09   1.31448985e-11   6.37744724e-03   2.13939521e-06\n",
    "    9.46497093e-01   4.71233155e-02   2.00196538e-19]\n",
    " [  1.33361482e-34   1.97925988e-32   2.78946809e-10   1.00000000e+00\n",
    "    2.54366565e-13   1.18506486e-27   3.22134029e-27]\n",
    " [  3.22134029e-27   1.97925988e-32   1.00000000e+00   1.64581143e-38\n",
    "    2.78946809e-10   4.90609473e-35   2.08428284e-52]] </td>\n",
    "    </tr>\n",
    "    <tr>\n",
    "      <td>  ** argmax **  </td>\n",
    "      <td> [2 5 4 3 2] </td>\n",
    "    </tr>\n",
    "</table>"
   ]
  },
  {
   "cell_type": "code",
   "execution_count": null,
   "metadata": {
    "deletable": false,
    "editable": false,
    "id": "brqNO8i0FL_l",
    "nbgrader": {
     "checksum": "a0a33e2e7a3c16c2398f343009e7558a",
     "grade": true,
     "grade_id": "cell-6bcca7ecd5d096ba",
     "locked": true,
     "points": 1,
     "schema_version": 1,
     "solution": false
    }
   },
   "outputs": [],
   "source": [
    "assert y.shape == (5,7)\n",
    "np.testing.assert_almost_equal(y, \n",
    "    [[3.53262855e-24, 1.18506486e-27, 9.99999994e-01, 1.46248622e-31, 5.60279641e-09, 2.93748210e-30, 2.74878499e-43],\n",
    "     [6.91440011e-13, 1.56288219e-18, 3.87399763e-21, 5.24288566e-22, 1.87952882e-12, 1.00000000e+00, 1.46248623e-31],\n",
    "     [5.30303054e-09, 1.31448985e-11, 6.37744724e-03, 2.13939521e-06, 9.46497093e-01, 4.71233155e-02, 2.00196538e-19],\n",
    "     [1.33361482e-34, 1.97925988e-32, 2.78946809e-10, 1.00000000e+00, 2.54366565e-13, 1.18506486e-27, 3.22134029e-27],\n",
    "     [3.22134029e-27, 1.97925988e-32, 1.00000000e+00, 1.64581143e-38, 2.78946809e-10, 4.90609473e-35, 2.08428284e-52]],\n",
    "    decimal=5)"
   ]
  },
  {
   "cell_type": "markdown",
   "metadata": {
    "id": "LW1Fy3trFL_l"
   },
   "source": [
    "---\n",
    "\n",
    "#### Linear regression\n",
    "\n",
    "Linear regression is a machine learning technique that aims at predicting a continuous output by using a parametric linear model:\n",
    "\n",
    "$$ f_{\\rm w}({\\rm x}) = {\\rm w}^\\top {\\rm x} = w_0 + w_1 x_1 + \\dots + w_Q x_Q. $$\n",
    "\n",
    "Hereabove, ${\\rm w}$ is a parameter vector to be learned from a set of input-output pairs $\\{({\\rm x}^{(n)}, y^{(n)})\\}$. Specifically, the learning consists of finding the vector ${\\rm w}$ such that the prediction $f_{\\rm w}({\\rm x}^{(n)})$ is close to the true output $y^{(n)}$ for every index $n$. Mathematically, this is equivalent to minimize the following loss function:\n",
    "\n",
    "$$ J({\\rm w}) = \\sum_{n=1}^N \\big(y^{(n)} - {\\rm w}^\\top {\\rm x}^{(n)}\\big)^2. $$\n",
    "\n",
    "The loss is used to evaluate the performance of the model. The bigger the loss is, the more different the predictions $f_{\\rm w}({\\rm x}^{(n)})$ are from the true values $y^{(n)}$.\n",
    "\n",
    "\n",
    "**Instruction**: Implement a function that computes the loss (a scalar) given three inputs: \n",
    " - `w` - the parameter vector, \n",
    " - `X` - the matrix storing all the inputs ${\\rm x}^{(n)}$, \n",
    " - `y` - the vector with all the outputs $y^{(n)}$.\n",
    "\n",
    "Don't use loops. The implementation must be fully vectorized!"
   ]
  },
  {
   "cell_type": "code",
   "execution_count": null,
   "metadata": {
    "deletable": false,
    "id": "mp_sFJyzFL_l",
    "nbgrader": {
     "checksum": "32735fb5186795da65cb0c5d69aef143",
     "grade": false,
     "grade_id": "cell-4906d03247148bd4",
     "locked": false,
     "schema_version": 1,
     "solution": true
    }
   },
   "outputs": [],
   "source": [
    "def linear_regression_loss(w, x, y):\n",
    "    \"\"\"Calculates the loss used in linear regression.\n",
    "     \n",
    "    Arguments:\n",
    "    w -- Numpy vector of shape (Q+1,)\n",
    "    X -- Numpy matrix of shape (N, Q)\n",
    "    y -- Numpy vector of shape (N,)\n",
    "\n",
    "    Returns:\n",
    "    s -- Scalar\n",
    "    \"\"\"\n",
    "    \n",
    "    ### START CODE HERE ### (≈ 2 lines of code)\n",
    "    \n",
    "    # Compute w0 + w1*x1 + ... + wQ*xQ. Use np.dot(...).\n",
    "    #x = np.append([[1]*x.shape[0]], x.T, axis=0)\n",
    "    #w_dot_x = np.dot(x.T,w)\n",
    "    # OR\n",
    "    x = np.concatenate((np.ones((x.shape[0],1)), x), axis = 1)\n",
    "    w_dot_x = np.dot(x, w)\n",
    "\n",
    "    # Compute the squared distance between x_dot_w and y. Use np.sum()\n",
    "    J = np.sum((y-w_dot_x)**2)\n",
    "    \n",
    "    ### END CODE HERE ###\n",
    "    \n",
    "    return J"
   ]
  },
  {
   "cell_type": "code",
   "execution_count": null,
   "metadata": {
    "colab": {
     "base_uri": "https://localhost:8080/"
    },
    "executionInfo": {
     "elapsed": 1911,
     "status": "ok",
     "timestamp": 1614607260617,
     "user": {
      "displayName": "Yamna OUCHTAR",
      "photoUrl": "",
      "userId": "01529658261698667727"
     },
     "user_tz": 0
    },
    "id": "rs-iw7liFL_m",
    "outputId": "f30edff9-956f-4057-8dd8-f79591e982ad"
   },
   "outputs": [],
   "source": [
    "w = np.array([-3, 2, 0.5, -1])\n",
    "X = np.array([[4, -5,  2],\n",
    "              [5,  3, -3],\n",
    "              [5,  2,  1],\n",
    "              [8,  6,  9],\n",
    "              [5, -6,  2]])\n",
    "y = np.array([6, -3, 0.5, 1, 0.])\n",
    "\n",
    "J = linear_regression_loss(w, X, y)\n",
    "\n",
    "print(\"Shape: \" + str(J.shape))\n",
    "print(\"linear_regression_loss(w,X,y): \" + str(J))"
   ]
  },
  {
   "cell_type": "markdown",
   "metadata": {
    "id": "2qqrz7zvFL_m"
   },
   "source": [
    "<table style=\"width:50%\">\n",
    "    <tr>\n",
    "      <td>  ** Shape **  </td>\n",
    "      <td> ( ) </td>\n",
    "    </tr>\n",
    "        <tr>\n",
    "      <td>  ** Loss **  </td>\n",
    "      <td> 322.75 </td>\n",
    "    </tr>\n",
    "</table>"
   ]
  },
  {
   "cell_type": "code",
   "execution_count": null,
   "metadata": {
    "deletable": false,
    "editable": false,
    "id": "xFxZVO5VFL_m",
    "nbgrader": {
     "checksum": "04d157c1f22501a122ca9e4d9a39b941",
     "grade": true,
     "grade_id": "cell-6084311d2f055b49",
     "locked": true,
     "points": 1,
     "schema_version": 1,
     "solution": false
    }
   },
   "outputs": [],
   "source": [
    "assert J.shape == ()\n",
    "np.testing.assert_almost_equal(J, 322.75, decimal=1)"
   ]
  },
  {
   "cell_type": "markdown",
   "metadata": {
    "id": "R48aQe4oFL_m"
   },
   "source": [
    "## 4. Conclusion\n",
    "\n",
    "Congratulations! You now have a pretty good understanding of Numpy, and have implemented a few functions that you will be using in deep learning. We hope this little warm-up tutorial helps you in the future assignments, which will be more exciting and interesting! \n",
    "\n",
    "**What have you learned:**\n",
    "\n",
    "- How to use Numpy arrays and its efficient built-in functions\n",
    "- The concept of Broadcasting\n",
    "- How to vectorize code\n",
    "\n",
    "For deeper insights, additional information can be found here:\n",
    "\n",
    "- [Python](http://docs.python.org/tut/)\n",
    "\n",
    "- [Numpy](https://docs.scipy.org/doc/numpy/user/quickstart.html)\n",
    "\n",
    "- [Broadcasting](https://docs.scipy.org/doc/numpy/user/basics.broadcasting.html)\n",
    "\n",
    "- [Vectorization](http://www.labri.fr/perso/nrougier/from-python-to-numpy/)"
   ]
  }
 ],
 "metadata": {
  "colab": {
   "name": "TP1_Numpy.ipynb",
   "provenance": []
  },
  "kernelspec": {
   "display_name": "Python 3 (ipykernel)",
   "language": "python",
   "name": "python3"
  },
  "language_info": {
   "codemirror_mode": {
    "name": "ipython",
    "version": 3
   },
   "file_extension": ".py",
   "mimetype": "text/x-python",
   "name": "python",
   "nbconvert_exporter": "python",
   "pygments_lexer": "ipython3",
   "version": "3.12.7"
  },
  "nbTranslate": {
   "displayLangs": [
    "*"
   ],
   "hotkey": "alt-t",
   "langInMainMenu": true,
   "sourceLang": "en",
   "targetLang": "fr",
   "useGoogleTranslate": true
  }
 },
 "nbformat": 4,
 "nbformat_minor": 4
}
